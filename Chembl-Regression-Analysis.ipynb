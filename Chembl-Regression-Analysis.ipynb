{
 "cells": [
  {
   "cell_type": "markdown",
   "metadata": {
    "id": "dcpSGqA8vF7C"
   },
   "source": [
    "# Introduction to Data Science\n",
    "\n",
    "## Assignment 03\n",
    "\n",
    "---"
   ]
  },
  {
   "cell_type": "markdown",
   "metadata": {
    "id": "9GaFAvhBvNhy"
   },
   "source": [
    "* Submitted By: **Muhammad Hasan Malik**\n",
    "\n",
    "\n",
    "---\n"
   ]
  },
  {
   "cell_type": "markdown",
   "metadata": {
    "id": "m4r-dsdQBN4F"
   },
   "source": [
    "## Table Of Contents\n",
    "\n",
    "**Assignment 02**\n",
    "> Linear Regression  \n",
    "> Logistic Regression\n",
    "\n",
    "**Assignment 03**\n",
    "> Principal Component Analysis (Feature Reduction)  \n",
    "> Genetic Algorithm (Feature Extraction)"
   ]
  },
  {
   "cell_type": "markdown",
   "metadata": {
    "id": "bggWrZ0ywOWL"
   },
   "source": [
    "**Data - Chemicals**"
   ]
  },
  {
   "cell_type": "markdown",
   "metadata": {
    "id": "-Py3pvD4w6PM"
   },
   "source": [
    "Import Data"
   ]
  },
  {
   "cell_type": "code",
   "execution_count": 2,
   "metadata": {
    "id": "461t9-Pbv3la"
   },
   "outputs": [],
   "source": [
    "import pandas as pd\n",
    "\n",
    "# use the pandas library to import csv file as a dataframe\n",
    "df = pd.read_csv(r'/content/chemicals_data.csv')"
   ]
  },
  {
   "cell_type": "markdown",
   "metadata": {
    "id": "jtSl2Tp-w9La"
   },
   "source": [
    "Dataframe"
   ]
  },
  {
   "cell_type": "code",
   "execution_count": 3,
   "metadata": {
    "colab": {
     "base_uri": "https://localhost:8080/",
     "height": 251
    },
    "id": "Q0tfaOKgw81L",
    "outputId": "3b737626-ce15-4737-f002-2819f743b6fa"
   },
   "outputs": [
    {
     "data": {
      "text/html": [
       "<div>\n",
       "<style scoped>\n",
       "    .dataframe tbody tr th:only-of-type {\n",
       "        vertical-align: middle;\n",
       "    }\n",
       "\n",
       "    .dataframe tbody tr th {\n",
       "        vertical-align: top;\n",
       "    }\n",
       "\n",
       "    .dataframe thead th {\n",
       "        text-align: right;\n",
       "    }\n",
       "</style>\n",
       "<table border=\"1\" class=\"dataframe\">\n",
       "  <thead>\n",
       "    <tr style=\"text-align: right;\">\n",
       "      <th></th>\n",
       "      <th>molecule_id</th>\n",
       "      <th>pXC50</th>\n",
       "      <th>b0001</th>\n",
       "      <th>b0002</th>\n",
       "      <th>b0003</th>\n",
       "      <th>b0004</th>\n",
       "      <th>b0005</th>\n",
       "      <th>b0006</th>\n",
       "      <th>b0007</th>\n",
       "      <th>b0008</th>\n",
       "      <th>b0009</th>\n",
       "      <th>b0010</th>\n",
       "      <th>b0011</th>\n",
       "      <th>b0012</th>\n",
       "      <th>b0013</th>\n",
       "      <th>b0014</th>\n",
       "      <th>b0015</th>\n",
       "      <th>b0016</th>\n",
       "      <th>b0017</th>\n",
       "      <th>b0018</th>\n",
       "      <th>b0019</th>\n",
       "      <th>b0020</th>\n",
       "      <th>b0021</th>\n",
       "      <th>b0022</th>\n",
       "      <th>b0023</th>\n",
       "      <th>b0024</th>\n",
       "      <th>b0025</th>\n",
       "      <th>b0026</th>\n",
       "      <th>b0027</th>\n",
       "      <th>b0028</th>\n",
       "      <th>b0029</th>\n",
       "      <th>b0030</th>\n",
       "      <th>b0031</th>\n",
       "      <th>b0032</th>\n",
       "      <th>b0033</th>\n",
       "      <th>b0034</th>\n",
       "      <th>b0035</th>\n",
       "      <th>b0036</th>\n",
       "      <th>b0037</th>\n",
       "      <th>b0038</th>\n",
       "      <th>...</th>\n",
       "      <th>b0985</th>\n",
       "      <th>b0986</th>\n",
       "      <th>b0987</th>\n",
       "      <th>b0988</th>\n",
       "      <th>b0989</th>\n",
       "      <th>b0990</th>\n",
       "      <th>b0991</th>\n",
       "      <th>b0992</th>\n",
       "      <th>b0993</th>\n",
       "      <th>b0994</th>\n",
       "      <th>b0995</th>\n",
       "      <th>b0996</th>\n",
       "      <th>b0997</th>\n",
       "      <th>b0998</th>\n",
       "      <th>b0999</th>\n",
       "      <th>b1000</th>\n",
       "      <th>b1001</th>\n",
       "      <th>b1002</th>\n",
       "      <th>b1003</th>\n",
       "      <th>b1004</th>\n",
       "      <th>b1005</th>\n",
       "      <th>b1006</th>\n",
       "      <th>b1007</th>\n",
       "      <th>b1008</th>\n",
       "      <th>b1009</th>\n",
       "      <th>b1010</th>\n",
       "      <th>b1011</th>\n",
       "      <th>b1012</th>\n",
       "      <th>b1013</th>\n",
       "      <th>b1014</th>\n",
       "      <th>b1015</th>\n",
       "      <th>b1016</th>\n",
       "      <th>b1017</th>\n",
       "      <th>b1018</th>\n",
       "      <th>b1019</th>\n",
       "      <th>b1020</th>\n",
       "      <th>b1021</th>\n",
       "      <th>b1022</th>\n",
       "      <th>b1023</th>\n",
       "      <th>b1024</th>\n",
       "    </tr>\n",
       "  </thead>\n",
       "  <tbody>\n",
       "    <tr>\n",
       "      <th>0</th>\n",
       "      <td>CHEMBL100013</td>\n",
       "      <td>5.000</td>\n",
       "      <td>1</td>\n",
       "      <td>1</td>\n",
       "      <td>1</td>\n",
       "      <td>0</td>\n",
       "      <td>1</td>\n",
       "      <td>0</td>\n",
       "      <td>1</td>\n",
       "      <td>0</td>\n",
       "      <td>0</td>\n",
       "      <td>0</td>\n",
       "      <td>1</td>\n",
       "      <td>1</td>\n",
       "      <td>0</td>\n",
       "      <td>0</td>\n",
       "      <td>0</td>\n",
       "      <td>0</td>\n",
       "      <td>0</td>\n",
       "      <td>0</td>\n",
       "      <td>0</td>\n",
       "      <td>1</td>\n",
       "      <td>0</td>\n",
       "      <td>0</td>\n",
       "      <td>0</td>\n",
       "      <td>0</td>\n",
       "      <td>0</td>\n",
       "      <td>0</td>\n",
       "      <td>0</td>\n",
       "      <td>0</td>\n",
       "      <td>0</td>\n",
       "      <td>0</td>\n",
       "      <td>0</td>\n",
       "      <td>0</td>\n",
       "      <td>0</td>\n",
       "      <td>0</td>\n",
       "      <td>0</td>\n",
       "      <td>0</td>\n",
       "      <td>0</td>\n",
       "      <td>0</td>\n",
       "      <td>...</td>\n",
       "      <td>0.0</td>\n",
       "      <td>0.0</td>\n",
       "      <td>0.0</td>\n",
       "      <td>0.0</td>\n",
       "      <td>0.0</td>\n",
       "      <td>0.0</td>\n",
       "      <td>0.0</td>\n",
       "      <td>0.0</td>\n",
       "      <td>0.0</td>\n",
       "      <td>1.0</td>\n",
       "      <td>0.0</td>\n",
       "      <td>0.0</td>\n",
       "      <td>0.0</td>\n",
       "      <td>0.0</td>\n",
       "      <td>0.0</td>\n",
       "      <td>0.0</td>\n",
       "      <td>0.0</td>\n",
       "      <td>0.0</td>\n",
       "      <td>0.0</td>\n",
       "      <td>0.0</td>\n",
       "      <td>0.0</td>\n",
       "      <td>0.0</td>\n",
       "      <td>0.0</td>\n",
       "      <td>0.0</td>\n",
       "      <td>1.0</td>\n",
       "      <td>1.0</td>\n",
       "      <td>0.0</td>\n",
       "      <td>0.0</td>\n",
       "      <td>1.0</td>\n",
       "      <td>0.0</td>\n",
       "      <td>0.0</td>\n",
       "      <td>1.0</td>\n",
       "      <td>1.0</td>\n",
       "      <td>0.0</td>\n",
       "      <td>0.0</td>\n",
       "      <td>0.0</td>\n",
       "      <td>1.0</td>\n",
       "      <td>0.0</td>\n",
       "      <td>0.0</td>\n",
       "      <td>0.0</td>\n",
       "    </tr>\n",
       "    <tr>\n",
       "      <th>1</th>\n",
       "      <td>CHEMBL100067</td>\n",
       "      <td>5.000</td>\n",
       "      <td>1</td>\n",
       "      <td>1</td>\n",
       "      <td>1</td>\n",
       "      <td>1</td>\n",
       "      <td>1</td>\n",
       "      <td>0</td>\n",
       "      <td>0</td>\n",
       "      <td>0</td>\n",
       "      <td>0</td>\n",
       "      <td>0</td>\n",
       "      <td>1</td>\n",
       "      <td>1</td>\n",
       "      <td>0</td>\n",
       "      <td>0</td>\n",
       "      <td>0</td>\n",
       "      <td>0</td>\n",
       "      <td>0</td>\n",
       "      <td>1</td>\n",
       "      <td>0</td>\n",
       "      <td>0</td>\n",
       "      <td>0</td>\n",
       "      <td>0</td>\n",
       "      <td>0</td>\n",
       "      <td>0</td>\n",
       "      <td>0</td>\n",
       "      <td>0</td>\n",
       "      <td>0</td>\n",
       "      <td>0</td>\n",
       "      <td>0</td>\n",
       "      <td>0</td>\n",
       "      <td>0</td>\n",
       "      <td>0</td>\n",
       "      <td>0</td>\n",
       "      <td>0</td>\n",
       "      <td>0</td>\n",
       "      <td>0</td>\n",
       "      <td>0</td>\n",
       "      <td>0</td>\n",
       "      <td>...</td>\n",
       "      <td>0.0</td>\n",
       "      <td>0.0</td>\n",
       "      <td>0.0</td>\n",
       "      <td>0.0</td>\n",
       "      <td>0.0</td>\n",
       "      <td>0.0</td>\n",
       "      <td>0.0</td>\n",
       "      <td>0.0</td>\n",
       "      <td>0.0</td>\n",
       "      <td>1.0</td>\n",
       "      <td>0.0</td>\n",
       "      <td>0.0</td>\n",
       "      <td>0.0</td>\n",
       "      <td>0.0</td>\n",
       "      <td>0.0</td>\n",
       "      <td>0.0</td>\n",
       "      <td>0.0</td>\n",
       "      <td>0.0</td>\n",
       "      <td>0.0</td>\n",
       "      <td>0.0</td>\n",
       "      <td>0.0</td>\n",
       "      <td>0.0</td>\n",
       "      <td>0.0</td>\n",
       "      <td>0.0</td>\n",
       "      <td>1.0</td>\n",
       "      <td>0.0</td>\n",
       "      <td>0.0</td>\n",
       "      <td>1.0</td>\n",
       "      <td>1.0</td>\n",
       "      <td>0.0</td>\n",
       "      <td>0.0</td>\n",
       "      <td>0.0</td>\n",
       "      <td>1.0</td>\n",
       "      <td>0.0</td>\n",
       "      <td>0.0</td>\n",
       "      <td>0.0</td>\n",
       "      <td>1.0</td>\n",
       "      <td>0.0</td>\n",
       "      <td>0.0</td>\n",
       "      <td>0.0</td>\n",
       "    </tr>\n",
       "    <tr>\n",
       "      <th>2</th>\n",
       "      <td>CHEMBL100109</td>\n",
       "      <td>9.620</td>\n",
       "      <td>1</td>\n",
       "      <td>1</td>\n",
       "      <td>1</td>\n",
       "      <td>1</td>\n",
       "      <td>1</td>\n",
       "      <td>0</td>\n",
       "      <td>0</td>\n",
       "      <td>0</td>\n",
       "      <td>0</td>\n",
       "      <td>0</td>\n",
       "      <td>0</td>\n",
       "      <td>0</td>\n",
       "      <td>0</td>\n",
       "      <td>0</td>\n",
       "      <td>0</td>\n",
       "      <td>0</td>\n",
       "      <td>0</td>\n",
       "      <td>0</td>\n",
       "      <td>0</td>\n",
       "      <td>1</td>\n",
       "      <td>0</td>\n",
       "      <td>1</td>\n",
       "      <td>0</td>\n",
       "      <td>0</td>\n",
       "      <td>0</td>\n",
       "      <td>0</td>\n",
       "      <td>0</td>\n",
       "      <td>0</td>\n",
       "      <td>0</td>\n",
       "      <td>0</td>\n",
       "      <td>0</td>\n",
       "      <td>0</td>\n",
       "      <td>0</td>\n",
       "      <td>0</td>\n",
       "      <td>0</td>\n",
       "      <td>0</td>\n",
       "      <td>0</td>\n",
       "      <td>0</td>\n",
       "      <td>...</td>\n",
       "      <td>0.0</td>\n",
       "      <td>0.0</td>\n",
       "      <td>0.0</td>\n",
       "      <td>0.0</td>\n",
       "      <td>0.0</td>\n",
       "      <td>0.0</td>\n",
       "      <td>0.0</td>\n",
       "      <td>0.0</td>\n",
       "      <td>0.0</td>\n",
       "      <td>1.0</td>\n",
       "      <td>0.0</td>\n",
       "      <td>0.0</td>\n",
       "      <td>0.0</td>\n",
       "      <td>0.0</td>\n",
       "      <td>0.0</td>\n",
       "      <td>0.0</td>\n",
       "      <td>0.0</td>\n",
       "      <td>0.0</td>\n",
       "      <td>0.0</td>\n",
       "      <td>0.0</td>\n",
       "      <td>0.0</td>\n",
       "      <td>0.0</td>\n",
       "      <td>0.0</td>\n",
       "      <td>0.0</td>\n",
       "      <td>0.0</td>\n",
       "      <td>0.0</td>\n",
       "      <td>0.0</td>\n",
       "      <td>0.0</td>\n",
       "      <td>0.0</td>\n",
       "      <td>0.0</td>\n",
       "      <td>0.0</td>\n",
       "      <td>1.0</td>\n",
       "      <td>1.0</td>\n",
       "      <td>1.0</td>\n",
       "      <td>0.0</td>\n",
       "      <td>0.0</td>\n",
       "      <td>0.0</td>\n",
       "      <td>0.0</td>\n",
       "      <td>0.0</td>\n",
       "      <td>0.0</td>\n",
       "    </tr>\n",
       "    <tr>\n",
       "      <th>3</th>\n",
       "      <td>CHEMBL100181</td>\n",
       "      <td>6.522</td>\n",
       "      <td>1</td>\n",
       "      <td>1</td>\n",
       "      <td>1</td>\n",
       "      <td>0</td>\n",
       "      <td>1</td>\n",
       "      <td>1</td>\n",
       "      <td>1</td>\n",
       "      <td>0</td>\n",
       "      <td>0</td>\n",
       "      <td>0</td>\n",
       "      <td>1</td>\n",
       "      <td>0</td>\n",
       "      <td>0</td>\n",
       "      <td>0</td>\n",
       "      <td>0</td>\n",
       "      <td>0</td>\n",
       "      <td>0</td>\n",
       "      <td>0</td>\n",
       "      <td>0</td>\n",
       "      <td>0</td>\n",
       "      <td>0</td>\n",
       "      <td>0</td>\n",
       "      <td>0</td>\n",
       "      <td>0</td>\n",
       "      <td>0</td>\n",
       "      <td>0</td>\n",
       "      <td>0</td>\n",
       "      <td>0</td>\n",
       "      <td>0</td>\n",
       "      <td>0</td>\n",
       "      <td>0</td>\n",
       "      <td>0</td>\n",
       "      <td>0</td>\n",
       "      <td>0</td>\n",
       "      <td>0</td>\n",
       "      <td>0</td>\n",
       "      <td>0</td>\n",
       "      <td>0</td>\n",
       "      <td>...</td>\n",
       "      <td>0.0</td>\n",
       "      <td>0.0</td>\n",
       "      <td>0.0</td>\n",
       "      <td>0.0</td>\n",
       "      <td>0.0</td>\n",
       "      <td>0.0</td>\n",
       "      <td>0.0</td>\n",
       "      <td>0.0</td>\n",
       "      <td>0.0</td>\n",
       "      <td>1.0</td>\n",
       "      <td>0.0</td>\n",
       "      <td>0.0</td>\n",
       "      <td>0.0</td>\n",
       "      <td>0.0</td>\n",
       "      <td>0.0</td>\n",
       "      <td>0.0</td>\n",
       "      <td>0.0</td>\n",
       "      <td>0.0</td>\n",
       "      <td>1.0</td>\n",
       "      <td>0.0</td>\n",
       "      <td>0.0</td>\n",
       "      <td>0.0</td>\n",
       "      <td>0.0</td>\n",
       "      <td>0.0</td>\n",
       "      <td>0.0</td>\n",
       "      <td>0.0</td>\n",
       "      <td>0.0</td>\n",
       "      <td>0.0</td>\n",
       "      <td>0.0</td>\n",
       "      <td>0.0</td>\n",
       "      <td>0.0</td>\n",
       "      <td>1.0</td>\n",
       "      <td>1.0</td>\n",
       "      <td>1.0</td>\n",
       "      <td>0.0</td>\n",
       "      <td>0.0</td>\n",
       "      <td>0.0</td>\n",
       "      <td>0.0</td>\n",
       "      <td>0.0</td>\n",
       "      <td>0.0</td>\n",
       "    </tr>\n",
       "    <tr>\n",
       "      <th>4</th>\n",
       "      <td>CHEMBL100187</td>\n",
       "      <td>7.796</td>\n",
       "      <td>1</td>\n",
       "      <td>1</td>\n",
       "      <td>1</td>\n",
       "      <td>1</td>\n",
       "      <td>1</td>\n",
       "      <td>0</td>\n",
       "      <td>0</td>\n",
       "      <td>0</td>\n",
       "      <td>0</td>\n",
       "      <td>0</td>\n",
       "      <td>0</td>\n",
       "      <td>0</td>\n",
       "      <td>0</td>\n",
       "      <td>0</td>\n",
       "      <td>0</td>\n",
       "      <td>0</td>\n",
       "      <td>0</td>\n",
       "      <td>0</td>\n",
       "      <td>0</td>\n",
       "      <td>1</td>\n",
       "      <td>0</td>\n",
       "      <td>1</td>\n",
       "      <td>0</td>\n",
       "      <td>0</td>\n",
       "      <td>0</td>\n",
       "      <td>0</td>\n",
       "      <td>0</td>\n",
       "      <td>0</td>\n",
       "      <td>0</td>\n",
       "      <td>0</td>\n",
       "      <td>0</td>\n",
       "      <td>0</td>\n",
       "      <td>0</td>\n",
       "      <td>0</td>\n",
       "      <td>0</td>\n",
       "      <td>0</td>\n",
       "      <td>0</td>\n",
       "      <td>0</td>\n",
       "      <td>...</td>\n",
       "      <td>0.0</td>\n",
       "      <td>0.0</td>\n",
       "      <td>0.0</td>\n",
       "      <td>0.0</td>\n",
       "      <td>0.0</td>\n",
       "      <td>0.0</td>\n",
       "      <td>0.0</td>\n",
       "      <td>0.0</td>\n",
       "      <td>0.0</td>\n",
       "      <td>1.0</td>\n",
       "      <td>0.0</td>\n",
       "      <td>0.0</td>\n",
       "      <td>0.0</td>\n",
       "      <td>0.0</td>\n",
       "      <td>0.0</td>\n",
       "      <td>0.0</td>\n",
       "      <td>0.0</td>\n",
       "      <td>0.0</td>\n",
       "      <td>0.0</td>\n",
       "      <td>0.0</td>\n",
       "      <td>0.0</td>\n",
       "      <td>0.0</td>\n",
       "      <td>0.0</td>\n",
       "      <td>0.0</td>\n",
       "      <td>0.0</td>\n",
       "      <td>0.0</td>\n",
       "      <td>0.0</td>\n",
       "      <td>0.0</td>\n",
       "      <td>0.0</td>\n",
       "      <td>0.0</td>\n",
       "      <td>0.0</td>\n",
       "      <td>1.0</td>\n",
       "      <td>1.0</td>\n",
       "      <td>1.0</td>\n",
       "      <td>0.0</td>\n",
       "      <td>0.0</td>\n",
       "      <td>0.0</td>\n",
       "      <td>0.0</td>\n",
       "      <td>0.0</td>\n",
       "      <td>0.0</td>\n",
       "    </tr>\n",
       "  </tbody>\n",
       "</table>\n",
       "<p>5 rows × 1026 columns</p>\n",
       "</div>"
      ],
      "text/plain": [
       "    molecule_id  pXC50  b0001  b0002  b0003  ...  b1020  b1021  b1022  b1023  b1024\n",
       "0  CHEMBL100013  5.000      1      1      1  ...    0.0    1.0    0.0    0.0    0.0\n",
       "1  CHEMBL100067  5.000      1      1      1  ...    0.0    1.0    0.0    0.0    0.0\n",
       "2  CHEMBL100109  9.620      1      1      1  ...    0.0    0.0    0.0    0.0    0.0\n",
       "3  CHEMBL100181  6.522      1      1      1  ...    0.0    0.0    0.0    0.0    0.0\n",
       "4  CHEMBL100187  7.796      1      1      1  ...    0.0    0.0    0.0    0.0    0.0\n",
       "\n",
       "[5 rows x 1026 columns]"
      ]
     },
     "execution_count": 3,
     "metadata": {
      "tags": []
     },
     "output_type": "execute_result"
    }
   ],
   "source": [
    "# show the first 5 lines of the dataframe to see how the data looks like\n",
    "df.head()"
   ]
  },
  {
   "cell_type": "markdown",
   "metadata": {
    "id": "I0DbRsOzxNdK"
   },
   "source": [
    "Remove the 'molecule_id' as it is neither a feature nor a class label"
   ]
  },
  {
   "cell_type": "code",
   "execution_count": 4,
   "metadata": {
    "id": "itJye2hIxVvK"
   },
   "outputs": [],
   "source": [
    "# delete the first column of the dataframe df\n",
    "del df['molecule_id']"
   ]
  },
  {
   "cell_type": "markdown",
   "metadata": {
    "id": "3Xl4Er0cxzLE"
   },
   "source": [
    "Extract the features from the dataframe"
   ]
  },
  {
   "cell_type": "code",
   "execution_count": 5,
   "metadata": {
    "id": "MIIT8d-DyIyi"
   },
   "outputs": [],
   "source": [
    "# extract features i.e. column b0001 to b1024\n",
    "features = df.iloc[:,1:].fillna(0)"
   ]
  },
  {
   "cell_type": "code",
   "execution_count": 6,
   "metadata": {
    "colab": {
     "base_uri": "https://localhost:8080/",
     "height": 251
    },
    "id": "jKZEHvySy2Oa",
    "outputId": "2cfcb882-dcf5-4506-904b-b9273ac3b7bf"
   },
   "outputs": [
    {
     "data": {
      "text/html": [
       "<div>\n",
       "<style scoped>\n",
       "    .dataframe tbody tr th:only-of-type {\n",
       "        vertical-align: middle;\n",
       "    }\n",
       "\n",
       "    .dataframe tbody tr th {\n",
       "        vertical-align: top;\n",
       "    }\n",
       "\n",
       "    .dataframe thead th {\n",
       "        text-align: right;\n",
       "    }\n",
       "</style>\n",
       "<table border=\"1\" class=\"dataframe\">\n",
       "  <thead>\n",
       "    <tr style=\"text-align: right;\">\n",
       "      <th></th>\n",
       "      <th>b0001</th>\n",
       "      <th>b0002</th>\n",
       "      <th>b0003</th>\n",
       "      <th>b0004</th>\n",
       "      <th>b0005</th>\n",
       "      <th>b0006</th>\n",
       "      <th>b0007</th>\n",
       "      <th>b0008</th>\n",
       "      <th>b0009</th>\n",
       "      <th>b0010</th>\n",
       "      <th>b0011</th>\n",
       "      <th>b0012</th>\n",
       "      <th>b0013</th>\n",
       "      <th>b0014</th>\n",
       "      <th>b0015</th>\n",
       "      <th>b0016</th>\n",
       "      <th>b0017</th>\n",
       "      <th>b0018</th>\n",
       "      <th>b0019</th>\n",
       "      <th>b0020</th>\n",
       "      <th>b0021</th>\n",
       "      <th>b0022</th>\n",
       "      <th>b0023</th>\n",
       "      <th>b0024</th>\n",
       "      <th>b0025</th>\n",
       "      <th>b0026</th>\n",
       "      <th>b0027</th>\n",
       "      <th>b0028</th>\n",
       "      <th>b0029</th>\n",
       "      <th>b0030</th>\n",
       "      <th>b0031</th>\n",
       "      <th>b0032</th>\n",
       "      <th>b0033</th>\n",
       "      <th>b0034</th>\n",
       "      <th>b0035</th>\n",
       "      <th>b0036</th>\n",
       "      <th>b0037</th>\n",
       "      <th>b0038</th>\n",
       "      <th>b0039</th>\n",
       "      <th>b0040</th>\n",
       "      <th>...</th>\n",
       "      <th>b0985</th>\n",
       "      <th>b0986</th>\n",
       "      <th>b0987</th>\n",
       "      <th>b0988</th>\n",
       "      <th>b0989</th>\n",
       "      <th>b0990</th>\n",
       "      <th>b0991</th>\n",
       "      <th>b0992</th>\n",
       "      <th>b0993</th>\n",
       "      <th>b0994</th>\n",
       "      <th>b0995</th>\n",
       "      <th>b0996</th>\n",
       "      <th>b0997</th>\n",
       "      <th>b0998</th>\n",
       "      <th>b0999</th>\n",
       "      <th>b1000</th>\n",
       "      <th>b1001</th>\n",
       "      <th>b1002</th>\n",
       "      <th>b1003</th>\n",
       "      <th>b1004</th>\n",
       "      <th>b1005</th>\n",
       "      <th>b1006</th>\n",
       "      <th>b1007</th>\n",
       "      <th>b1008</th>\n",
       "      <th>b1009</th>\n",
       "      <th>b1010</th>\n",
       "      <th>b1011</th>\n",
       "      <th>b1012</th>\n",
       "      <th>b1013</th>\n",
       "      <th>b1014</th>\n",
       "      <th>b1015</th>\n",
       "      <th>b1016</th>\n",
       "      <th>b1017</th>\n",
       "      <th>b1018</th>\n",
       "      <th>b1019</th>\n",
       "      <th>b1020</th>\n",
       "      <th>b1021</th>\n",
       "      <th>b1022</th>\n",
       "      <th>b1023</th>\n",
       "      <th>b1024</th>\n",
       "    </tr>\n",
       "  </thead>\n",
       "  <tbody>\n",
       "    <tr>\n",
       "      <th>0</th>\n",
       "      <td>1</td>\n",
       "      <td>1</td>\n",
       "      <td>1</td>\n",
       "      <td>0</td>\n",
       "      <td>1</td>\n",
       "      <td>0</td>\n",
       "      <td>1</td>\n",
       "      <td>0</td>\n",
       "      <td>0</td>\n",
       "      <td>0</td>\n",
       "      <td>1</td>\n",
       "      <td>1</td>\n",
       "      <td>0</td>\n",
       "      <td>0</td>\n",
       "      <td>0</td>\n",
       "      <td>0</td>\n",
       "      <td>0</td>\n",
       "      <td>0</td>\n",
       "      <td>0</td>\n",
       "      <td>1</td>\n",
       "      <td>0</td>\n",
       "      <td>0</td>\n",
       "      <td>0</td>\n",
       "      <td>0</td>\n",
       "      <td>0</td>\n",
       "      <td>0</td>\n",
       "      <td>0</td>\n",
       "      <td>0</td>\n",
       "      <td>0</td>\n",
       "      <td>0</td>\n",
       "      <td>0</td>\n",
       "      <td>0</td>\n",
       "      <td>0</td>\n",
       "      <td>0</td>\n",
       "      <td>0</td>\n",
       "      <td>0</td>\n",
       "      <td>0</td>\n",
       "      <td>0</td>\n",
       "      <td>0</td>\n",
       "      <td>0</td>\n",
       "      <td>...</td>\n",
       "      <td>0.0</td>\n",
       "      <td>0.0</td>\n",
       "      <td>0.0</td>\n",
       "      <td>0.0</td>\n",
       "      <td>0.0</td>\n",
       "      <td>0.0</td>\n",
       "      <td>0.0</td>\n",
       "      <td>0.0</td>\n",
       "      <td>0.0</td>\n",
       "      <td>1.0</td>\n",
       "      <td>0.0</td>\n",
       "      <td>0.0</td>\n",
       "      <td>0.0</td>\n",
       "      <td>0.0</td>\n",
       "      <td>0.0</td>\n",
       "      <td>0.0</td>\n",
       "      <td>0.0</td>\n",
       "      <td>0.0</td>\n",
       "      <td>0.0</td>\n",
       "      <td>0.0</td>\n",
       "      <td>0.0</td>\n",
       "      <td>0.0</td>\n",
       "      <td>0.0</td>\n",
       "      <td>0.0</td>\n",
       "      <td>1.0</td>\n",
       "      <td>1.0</td>\n",
       "      <td>0.0</td>\n",
       "      <td>0.0</td>\n",
       "      <td>1.0</td>\n",
       "      <td>0.0</td>\n",
       "      <td>0.0</td>\n",
       "      <td>1.0</td>\n",
       "      <td>1.0</td>\n",
       "      <td>0.0</td>\n",
       "      <td>0.0</td>\n",
       "      <td>0.0</td>\n",
       "      <td>1.0</td>\n",
       "      <td>0.0</td>\n",
       "      <td>0.0</td>\n",
       "      <td>0.0</td>\n",
       "    </tr>\n",
       "    <tr>\n",
       "      <th>1</th>\n",
       "      <td>1</td>\n",
       "      <td>1</td>\n",
       "      <td>1</td>\n",
       "      <td>1</td>\n",
       "      <td>1</td>\n",
       "      <td>0</td>\n",
       "      <td>0</td>\n",
       "      <td>0</td>\n",
       "      <td>0</td>\n",
       "      <td>0</td>\n",
       "      <td>1</td>\n",
       "      <td>1</td>\n",
       "      <td>0</td>\n",
       "      <td>0</td>\n",
       "      <td>0</td>\n",
       "      <td>0</td>\n",
       "      <td>0</td>\n",
       "      <td>1</td>\n",
       "      <td>0</td>\n",
       "      <td>0</td>\n",
       "      <td>0</td>\n",
       "      <td>0</td>\n",
       "      <td>0</td>\n",
       "      <td>0</td>\n",
       "      <td>0</td>\n",
       "      <td>0</td>\n",
       "      <td>0</td>\n",
       "      <td>0</td>\n",
       "      <td>0</td>\n",
       "      <td>0</td>\n",
       "      <td>0</td>\n",
       "      <td>0</td>\n",
       "      <td>0</td>\n",
       "      <td>0</td>\n",
       "      <td>0</td>\n",
       "      <td>0</td>\n",
       "      <td>0</td>\n",
       "      <td>0</td>\n",
       "      <td>0</td>\n",
       "      <td>0</td>\n",
       "      <td>...</td>\n",
       "      <td>0.0</td>\n",
       "      <td>0.0</td>\n",
       "      <td>0.0</td>\n",
       "      <td>0.0</td>\n",
       "      <td>0.0</td>\n",
       "      <td>0.0</td>\n",
       "      <td>0.0</td>\n",
       "      <td>0.0</td>\n",
       "      <td>0.0</td>\n",
       "      <td>1.0</td>\n",
       "      <td>0.0</td>\n",
       "      <td>0.0</td>\n",
       "      <td>0.0</td>\n",
       "      <td>0.0</td>\n",
       "      <td>0.0</td>\n",
       "      <td>0.0</td>\n",
       "      <td>0.0</td>\n",
       "      <td>0.0</td>\n",
       "      <td>0.0</td>\n",
       "      <td>0.0</td>\n",
       "      <td>0.0</td>\n",
       "      <td>0.0</td>\n",
       "      <td>0.0</td>\n",
       "      <td>0.0</td>\n",
       "      <td>1.0</td>\n",
       "      <td>0.0</td>\n",
       "      <td>0.0</td>\n",
       "      <td>1.0</td>\n",
       "      <td>1.0</td>\n",
       "      <td>0.0</td>\n",
       "      <td>0.0</td>\n",
       "      <td>0.0</td>\n",
       "      <td>1.0</td>\n",
       "      <td>0.0</td>\n",
       "      <td>0.0</td>\n",
       "      <td>0.0</td>\n",
       "      <td>1.0</td>\n",
       "      <td>0.0</td>\n",
       "      <td>0.0</td>\n",
       "      <td>0.0</td>\n",
       "    </tr>\n",
       "    <tr>\n",
       "      <th>2</th>\n",
       "      <td>1</td>\n",
       "      <td>1</td>\n",
       "      <td>1</td>\n",
       "      <td>1</td>\n",
       "      <td>1</td>\n",
       "      <td>0</td>\n",
       "      <td>0</td>\n",
       "      <td>0</td>\n",
       "      <td>0</td>\n",
       "      <td>0</td>\n",
       "      <td>0</td>\n",
       "      <td>0</td>\n",
       "      <td>0</td>\n",
       "      <td>0</td>\n",
       "      <td>0</td>\n",
       "      <td>0</td>\n",
       "      <td>0</td>\n",
       "      <td>0</td>\n",
       "      <td>0</td>\n",
       "      <td>1</td>\n",
       "      <td>0</td>\n",
       "      <td>1</td>\n",
       "      <td>0</td>\n",
       "      <td>0</td>\n",
       "      <td>0</td>\n",
       "      <td>0</td>\n",
       "      <td>0</td>\n",
       "      <td>0</td>\n",
       "      <td>0</td>\n",
       "      <td>0</td>\n",
       "      <td>0</td>\n",
       "      <td>0</td>\n",
       "      <td>0</td>\n",
       "      <td>0</td>\n",
       "      <td>0</td>\n",
       "      <td>0</td>\n",
       "      <td>0</td>\n",
       "      <td>0</td>\n",
       "      <td>0</td>\n",
       "      <td>0</td>\n",
       "      <td>...</td>\n",
       "      <td>0.0</td>\n",
       "      <td>0.0</td>\n",
       "      <td>0.0</td>\n",
       "      <td>0.0</td>\n",
       "      <td>0.0</td>\n",
       "      <td>0.0</td>\n",
       "      <td>0.0</td>\n",
       "      <td>0.0</td>\n",
       "      <td>0.0</td>\n",
       "      <td>1.0</td>\n",
       "      <td>0.0</td>\n",
       "      <td>0.0</td>\n",
       "      <td>0.0</td>\n",
       "      <td>0.0</td>\n",
       "      <td>0.0</td>\n",
       "      <td>0.0</td>\n",
       "      <td>0.0</td>\n",
       "      <td>0.0</td>\n",
       "      <td>0.0</td>\n",
       "      <td>0.0</td>\n",
       "      <td>0.0</td>\n",
       "      <td>0.0</td>\n",
       "      <td>0.0</td>\n",
       "      <td>0.0</td>\n",
       "      <td>0.0</td>\n",
       "      <td>0.0</td>\n",
       "      <td>0.0</td>\n",
       "      <td>0.0</td>\n",
       "      <td>0.0</td>\n",
       "      <td>0.0</td>\n",
       "      <td>0.0</td>\n",
       "      <td>1.0</td>\n",
       "      <td>1.0</td>\n",
       "      <td>1.0</td>\n",
       "      <td>0.0</td>\n",
       "      <td>0.0</td>\n",
       "      <td>0.0</td>\n",
       "      <td>0.0</td>\n",
       "      <td>0.0</td>\n",
       "      <td>0.0</td>\n",
       "    </tr>\n",
       "    <tr>\n",
       "      <th>3</th>\n",
       "      <td>1</td>\n",
       "      <td>1</td>\n",
       "      <td>1</td>\n",
       "      <td>0</td>\n",
       "      <td>1</td>\n",
       "      <td>1</td>\n",
       "      <td>1</td>\n",
       "      <td>0</td>\n",
       "      <td>0</td>\n",
       "      <td>0</td>\n",
       "      <td>1</td>\n",
       "      <td>0</td>\n",
       "      <td>0</td>\n",
       "      <td>0</td>\n",
       "      <td>0</td>\n",
       "      <td>0</td>\n",
       "      <td>0</td>\n",
       "      <td>0</td>\n",
       "      <td>0</td>\n",
       "      <td>0</td>\n",
       "      <td>0</td>\n",
       "      <td>0</td>\n",
       "      <td>0</td>\n",
       "      <td>0</td>\n",
       "      <td>0</td>\n",
       "      <td>0</td>\n",
       "      <td>0</td>\n",
       "      <td>0</td>\n",
       "      <td>0</td>\n",
       "      <td>0</td>\n",
       "      <td>0</td>\n",
       "      <td>0</td>\n",
       "      <td>0</td>\n",
       "      <td>0</td>\n",
       "      <td>0</td>\n",
       "      <td>0</td>\n",
       "      <td>0</td>\n",
       "      <td>0</td>\n",
       "      <td>0</td>\n",
       "      <td>0</td>\n",
       "      <td>...</td>\n",
       "      <td>0.0</td>\n",
       "      <td>0.0</td>\n",
       "      <td>0.0</td>\n",
       "      <td>0.0</td>\n",
       "      <td>0.0</td>\n",
       "      <td>0.0</td>\n",
       "      <td>0.0</td>\n",
       "      <td>0.0</td>\n",
       "      <td>0.0</td>\n",
       "      <td>1.0</td>\n",
       "      <td>0.0</td>\n",
       "      <td>0.0</td>\n",
       "      <td>0.0</td>\n",
       "      <td>0.0</td>\n",
       "      <td>0.0</td>\n",
       "      <td>0.0</td>\n",
       "      <td>0.0</td>\n",
       "      <td>0.0</td>\n",
       "      <td>1.0</td>\n",
       "      <td>0.0</td>\n",
       "      <td>0.0</td>\n",
       "      <td>0.0</td>\n",
       "      <td>0.0</td>\n",
       "      <td>0.0</td>\n",
       "      <td>0.0</td>\n",
       "      <td>0.0</td>\n",
       "      <td>0.0</td>\n",
       "      <td>0.0</td>\n",
       "      <td>0.0</td>\n",
       "      <td>0.0</td>\n",
       "      <td>0.0</td>\n",
       "      <td>1.0</td>\n",
       "      <td>1.0</td>\n",
       "      <td>1.0</td>\n",
       "      <td>0.0</td>\n",
       "      <td>0.0</td>\n",
       "      <td>0.0</td>\n",
       "      <td>0.0</td>\n",
       "      <td>0.0</td>\n",
       "      <td>0.0</td>\n",
       "    </tr>\n",
       "    <tr>\n",
       "      <th>4</th>\n",
       "      <td>1</td>\n",
       "      <td>1</td>\n",
       "      <td>1</td>\n",
       "      <td>1</td>\n",
       "      <td>1</td>\n",
       "      <td>0</td>\n",
       "      <td>0</td>\n",
       "      <td>0</td>\n",
       "      <td>0</td>\n",
       "      <td>0</td>\n",
       "      <td>0</td>\n",
       "      <td>0</td>\n",
       "      <td>0</td>\n",
       "      <td>0</td>\n",
       "      <td>0</td>\n",
       "      <td>0</td>\n",
       "      <td>0</td>\n",
       "      <td>0</td>\n",
       "      <td>0</td>\n",
       "      <td>1</td>\n",
       "      <td>0</td>\n",
       "      <td>1</td>\n",
       "      <td>0</td>\n",
       "      <td>0</td>\n",
       "      <td>0</td>\n",
       "      <td>0</td>\n",
       "      <td>0</td>\n",
       "      <td>0</td>\n",
       "      <td>0</td>\n",
       "      <td>0</td>\n",
       "      <td>0</td>\n",
       "      <td>0</td>\n",
       "      <td>0</td>\n",
       "      <td>0</td>\n",
       "      <td>0</td>\n",
       "      <td>0</td>\n",
       "      <td>0</td>\n",
       "      <td>0</td>\n",
       "      <td>0</td>\n",
       "      <td>0</td>\n",
       "      <td>...</td>\n",
       "      <td>0.0</td>\n",
       "      <td>0.0</td>\n",
       "      <td>0.0</td>\n",
       "      <td>0.0</td>\n",
       "      <td>0.0</td>\n",
       "      <td>0.0</td>\n",
       "      <td>0.0</td>\n",
       "      <td>0.0</td>\n",
       "      <td>0.0</td>\n",
       "      <td>1.0</td>\n",
       "      <td>0.0</td>\n",
       "      <td>0.0</td>\n",
       "      <td>0.0</td>\n",
       "      <td>0.0</td>\n",
       "      <td>0.0</td>\n",
       "      <td>0.0</td>\n",
       "      <td>0.0</td>\n",
       "      <td>0.0</td>\n",
       "      <td>0.0</td>\n",
       "      <td>0.0</td>\n",
       "      <td>0.0</td>\n",
       "      <td>0.0</td>\n",
       "      <td>0.0</td>\n",
       "      <td>0.0</td>\n",
       "      <td>0.0</td>\n",
       "      <td>0.0</td>\n",
       "      <td>0.0</td>\n",
       "      <td>0.0</td>\n",
       "      <td>0.0</td>\n",
       "      <td>0.0</td>\n",
       "      <td>0.0</td>\n",
       "      <td>1.0</td>\n",
       "      <td>1.0</td>\n",
       "      <td>1.0</td>\n",
       "      <td>0.0</td>\n",
       "      <td>0.0</td>\n",
       "      <td>0.0</td>\n",
       "      <td>0.0</td>\n",
       "      <td>0.0</td>\n",
       "      <td>0.0</td>\n",
       "    </tr>\n",
       "  </tbody>\n",
       "</table>\n",
       "<p>5 rows × 1024 columns</p>\n",
       "</div>"
      ],
      "text/plain": [
       "   b0001  b0002  b0003  b0004  b0005  ...  b1020  b1021  b1022  b1023  b1024\n",
       "0      1      1      1      0      1  ...    0.0    1.0    0.0    0.0    0.0\n",
       "1      1      1      1      1      1  ...    0.0    1.0    0.0    0.0    0.0\n",
       "2      1      1      1      1      1  ...    0.0    0.0    0.0    0.0    0.0\n",
       "3      1      1      1      0      1  ...    0.0    0.0    0.0    0.0    0.0\n",
       "4      1      1      1      1      1  ...    0.0    0.0    0.0    0.0    0.0\n",
       "\n",
       "[5 rows x 1024 columns]"
      ]
     },
     "execution_count": 6,
     "metadata": {
      "tags": []
     },
     "output_type": "execute_result"
    }
   ],
   "source": [
    "# features dataframe\n",
    "features.head()"
   ]
  },
  {
   "cell_type": "markdown",
   "metadata": {
    "id": "hEvmafqPzImK"
   },
   "source": [
    "Extract the classes from the dataframe"
   ]
  },
  {
   "cell_type": "code",
   "execution_count": 7,
   "metadata": {
    "id": "_h3V2gD7zLRC"
   },
   "outputs": [],
   "source": [
    "# extract class labels\n",
    "classes = df.iloc[:,0]"
   ]
  },
  {
   "cell_type": "code",
   "execution_count": 8,
   "metadata": {
    "colab": {
     "base_uri": "https://localhost:8080/"
    },
    "id": "VU90shNgzUUq",
    "outputId": "b64fb99e-2c2a-436d-aa5b-dcfa4112f33a"
   },
   "outputs": [
    {
     "data": {
      "text/plain": [
       "0    5.000\n",
       "1    5.000\n",
       "2    9.620\n",
       "3    6.522\n",
       "4    7.796\n",
       "Name: pXC50, dtype: float64"
      ]
     },
     "execution_count": 8,
     "metadata": {
      "tags": []
     },
     "output_type": "execute_result"
    }
   ],
   "source": [
    "classes.head()"
   ]
  },
  {
   "cell_type": "markdown",
   "metadata": {
    "id": "jh71eo50zm_x"
   },
   "source": [
    "**Data conversion**"
   ]
  },
  {
   "cell_type": "code",
   "execution_count": 93,
   "metadata": {
    "id": "6TyPjHEdz5Ei"
   },
   "outputs": [],
   "source": [
    "import numpy as np\n",
    "\n",
    "# convert data into numpy array\n",
    "\n",
    "X = np.asarray(features)\n",
    "y = np.asarray(classes)"
   ]
  },
  {
   "cell_type": "code",
   "execution_count": 10,
   "metadata": {
    "colab": {
     "base_uri": "https://localhost:8080/"
    },
    "id": "wYbqR-b80KIp",
    "outputId": "54e8019f-702c-4bc0-fcd9-bc11ea732018"
   },
   "outputs": [
    {
     "data": {
      "text/plain": [
       "array([[1., 1., 1., ..., 0., 0., 0.],\n",
       "       [1., 1., 1., ..., 0., 0., 0.],\n",
       "       [1., 1., 1., ..., 0., 0., 0.],\n",
       "       ...,\n",
       "       [1., 0., 1., ..., 0., 0., 0.],\n",
       "       [1., 0., 1., ..., 0., 0., 0.],\n",
       "       [1., 1., 1., ..., 0., 0., 0.]])"
      ]
     },
     "execution_count": 10,
     "metadata": {
      "tags": []
     },
     "output_type": "execute_result"
    }
   ],
   "source": [
    "X # array of features"
   ]
  },
  {
   "cell_type": "code",
   "execution_count": 11,
   "metadata": {
    "colab": {
     "base_uri": "https://localhost:8080/"
    },
    "id": "OScDyDMI0Mda",
    "outputId": "99427279-9ad6-470f-8a03-89482a9770ba"
   },
   "outputs": [
    {
     "data": {
      "text/plain": [
       "array([5.   , 5.   , 9.62 , ..., 8.097, 6.697, 7.538])"
      ]
     },
     "execution_count": 11,
     "metadata": {
      "tags": []
     },
     "output_type": "execute_result"
    }
   ],
   "source": [
    "y # array of labels"
   ]
  },
  {
   "cell_type": "markdown",
   "metadata": {
    "id": "t-7quyF_0Txy"
   },
   "source": [
    "**Data Splitting**"
   ]
  },
  {
   "cell_type": "code",
   "execution_count": 94,
   "metadata": {
    "id": "3GoPCF2d0XB6"
   },
   "outputs": [],
   "source": [
    "from sklearn.model_selection import train_test_split\n",
    "\n",
    "# split the data so that accuracy can be predicted\n",
    "# training data is 80% of the data, while testing data is 20%\n",
    "# random state just splits in the same manner if splitted again\n",
    "X_train, X_test, y_train, y_test = \\\n",
    "train_test_split(X, y,\n",
    "                 test_size = 0.20,\n",
    "                 random_state = 1\n",
    "                 )"
   ]
  },
  {
   "cell_type": "markdown",
   "metadata": {
    "id": "xMroArxc2Apk"
   },
   "source": [
    "# **Regression**  \n",
    "\n",
    "In statistical modeling, regression analysis is a set of statistical processes for estimating the relationships between a dependent variable (often called the 'outcome variable') and one or more independent variables (often called 'predictors', 'covariates', or 'features'). The most common form of regression analysis is linear regression.\n",
    "Source: [Regression - Wikipedia](https://en.wikipedia.org/wiki/Regression_analysis)"
   ]
  },
  {
   "cell_type": "markdown",
   "metadata": {
    "id": "5YOMDMK_2Y56"
   },
   "source": [
    "### **Conventional Way for Linear Regression**  \n",
    "\n",
    "The equation of line is `y=mx + b`, to find `m` and `b`, we use the the following formulas:   \n",
    "\n",
    "* $$ m =  \\frac{n \\sum xy - (\\sum x)(\\sum y)}{n \\sum (x^2) - (\\sum x)^2}$$\n",
    "\n",
    "\n",
    "* $$ b = \\frac{\\sum y }{n} - m \\frac{\\sum x}{n}$$\n"
   ]
  },
  {
   "cell_type": "code",
   "execution_count": 13,
   "metadata": {
    "id": "0O6jCfBS2g7L"
   },
   "outputs": [],
   "source": [
    "from sklearn.linear_model import LinearRegression\n",
    "\n",
    "def get_linear_regression_model(x1, y1):\n",
    "  '''\n",
    "  Returns Linear Regression Model fitted with data\n",
    "  '''\n",
    "\n",
    "  # initialize the model\n",
    "  model = LinearRegression()\n",
    "\n",
    "  # pass the training data to fit into the model\n",
    "  model.fit(x1, y1)\n",
    "\n",
    "  # return the model fitted with data\n",
    "  return model"
   ]
  },
  {
   "cell_type": "code",
   "execution_count": 14,
   "metadata": {
    "id": "PKBjXB1W33p1"
   },
   "outputs": [],
   "source": [
    "model = get_linear_regression_model(X_train, y_train)"
   ]
  },
  {
   "cell_type": "markdown",
   "metadata": {
    "id": "k_jssb-w45_S"
   },
   "source": [
    "Test the model's accuracy"
   ]
  },
  {
   "cell_type": "code",
   "execution_count": 15,
   "metadata": {
    "colab": {
     "base_uri": "https://localhost:8080/"
    },
    "id": "nzom6anO5dKq",
    "outputId": "fbefd69e-c4a9-4157-ce51-5e59065c6bfb"
   },
   "outputs": [
    {
     "name": "stdout",
     "output_type": "stream",
     "text": [
      "Score: 80.0%\n"
     ]
    }
   ],
   "source": [
    "# check model's score by cross-refrencing it with training of test data\n",
    "score = model.score(X_train, y_train)\n",
    "\n",
    "print(\"Score: {}%\".format(round(score, 1)*100))"
   ]
  },
  {
   "cell_type": "code",
   "execution_count": 16,
   "metadata": {
    "id": "GbeCMRz04z2c"
   },
   "outputs": [],
   "source": [
    "# make predictions from the test data\n",
    "y_pred = model.predict(X_test)"
   ]
  },
  {
   "cell_type": "markdown",
   "metadata": {
    "id": "jQ1lxF8U6exQ"
   },
   "source": [
    "Linear Regression Model's Metrics"
   ]
  },
  {
   "cell_type": "code",
   "execution_count": 95,
   "metadata": {
    "colab": {
     "base_uri": "https://localhost:8080/"
    },
    "id": "LES5j8jO6dPQ",
    "outputId": "8d8eaa68-3ccb-41a7-d7b1-4cc58fa872ae"
   },
   "outputs": [
    {
     "name": "stdout",
     "output_type": "stream",
     "text": [
      "Mean Absolute Error: 2279121140.382344\n",
      "Mean Squared Error: 2.1426759677360047e+21\n",
      "Root Mean Squared Error: 46289048032.29382\n",
      "The R_square of prediction of (RF): -9.276557971730939e+20\n"
     ]
    }
   ],
   "source": [
    "from sklearn import metrics\n",
    "print('Mean Absolute Error:', metrics.mean_absolute_error(y_test, y_pred))\n",
    "print('Mean Squared Error:', metrics.mean_squared_error(y_test, y_pred))\n",
    "print('Root Mean Squared Error:', np.sqrt(metrics.mean_squared_error(y_test, y_pred)))\n",
    "print(f\"The R_square of prediction of (RF): {metrics.r2_score(y_test, y_pred)}\")"
   ]
  },
  {
   "cell_type": "markdown",
   "metadata": {
    "id": "fUlpETq0HVNe"
   },
   "source": [
    "Metrics"
   ]
  },
  {
   "cell_type": "code",
   "execution_count": 96,
   "metadata": {
    "colab": {
     "base_uri": "https://localhost:8080/"
    },
    "id": "ThpEk9U-HUxK",
    "outputId": "6361b96a-a173-4cbb-c4e5-cb63e954a4ff"
   },
   "outputs": [
    {
     "data": {
      "text/plain": [
       "(4,)"
      ]
     },
     "execution_count": 96,
     "metadata": {
      "tags": []
     },
     "output_type": "execute_result"
    }
   ],
   "source": [
    "# Add metrics into array for visualization\n",
    "\n",
    "non_pca_metrics = []\n",
    "\n",
    "non_pca_metrics.append(metrics.mean_absolute_error(y_test, y_pred))\n",
    "non_pca_metrics.append(metrics.mean_squared_error(y_test, y_pred))\n",
    "non_pca_metrics.append(np.sqrt(metrics.mean_squared_error(y_test, y_pred)))\n",
    "non_pca_metrics.append(metrics.r2_score(y_test, y_pred))\n",
    "\n",
    "# convert into a numpy array\n",
    "non_pca_metrics = np.array(non_pca_metrics)\n",
    "\n",
    "non_pca_metrics.shape"
   ]
  },
  {
   "cell_type": "markdown",
   "metadata": {
    "id": "tvOOCCya68Vi"
   },
   "source": [
    "### **Logistic Regression**\n",
    "\n",
    "The logistic regression plots and S curve and is sued for binary classification"
   ]
  },
  {
   "cell_type": "markdown",
   "metadata": {
    "id": "mqoGzCUi7Qdz"
   },
   "source": [
    "* $$ P = \\frac{1}{1+e^{-y}}$$"
   ]
  },
  {
   "cell_type": "code",
   "execution_count": null,
   "metadata": {
    "id": "IWpjq-SD7BTq"
   },
   "outputs": [],
   "source": [
    "from sklearn.linear_model import LogisticRegression\n",
    "\n",
    "def get_logistic_regression_model(x1, y1):\n",
    "  '''\n",
    "  Returns Logistic Regression Model fitted with data\n",
    "  '''\n",
    "\n",
    "  # initialize the model\n",
    "  model = LogisticRegression()\n",
    "\n",
    "  # pass the training data to fit into the model\n",
    "  model.fit(x1, y1)\n",
    "\n",
    "  # return the model fitted with data\n",
    "  return model"
   ]
  },
  {
   "cell_type": "markdown",
   "metadata": {
    "id": "qIwyyF4K-Ybp"
   },
   "source": [
    "Labels Encoding"
   ]
  },
  {
   "cell_type": "code",
   "execution_count": 38,
   "metadata": {
    "id": "JQp9bQbb-W0a"
   },
   "outputs": [],
   "source": [
    "from sklearn import preprocessing\n",
    "\n",
    "# Encode labels so that labels can be fitted into the logistic regression model\n",
    "\n",
    "# initialize encoder\n",
    "encoder = preprocessing.LabelEncoder()\n",
    "\n",
    "# encode the labels\n",
    "y_train = encoder.fit_transform(y_train)\n",
    "y_test = encoder.fit_transform(y_test)"
   ]
  },
  {
   "cell_type": "code",
   "execution_count": 39,
   "metadata": {
    "colab": {
     "base_uri": "https://localhost:8080/"
    },
    "id": "mV5HMind_UfD",
    "outputId": "47a02b6f-8a54-4a6d-8c70-eff779c59c30"
   },
   "outputs": [
    {
     "name": "stdout",
     "output_type": "stream",
     "text": [
      "Type of y_train:  multiclass\n",
      "Type of y_test:  multiclass\n"
     ]
    }
   ],
   "source": [
    "from sklearn import utils\n",
    "\n",
    "# print type of classes\n",
    "print(\"Type of y_train: \", utils.multiclass.type_of_target(y_train))\n",
    "print(\"Type of y_test: \", utils.multiclass.type_of_target(y_test))"
   ]
  },
  {
   "cell_type": "code",
   "execution_count": null,
   "metadata": {
    "colab": {
     "base_uri": "https://localhost:8080/"
    },
    "id": "zPbxXajF_0tr",
    "outputId": "b03dd452-d8c3-4b2a-aaf4-a4d812aad007"
   },
   "outputs": [
    {
     "data": {
      "text/plain": [
       "dtype('int64')"
      ]
     },
     "execution_count": 15,
     "metadata": {
      "tags": []
     },
     "output_type": "execute_result"
    }
   ],
   "source": [
    "y_train.dtype"
   ]
  },
  {
   "cell_type": "code",
   "execution_count": null,
   "metadata": {
    "colab": {
     "base_uri": "https://localhost:8080/"
    },
    "id": "EajPuTno_2pw",
    "outputId": "c2f39c1a-dc3a-4bde-c4d3-c7c5463a4339"
   },
   "outputs": [
    {
     "data": {
      "text/plain": [
       "dtype('int64')"
      ]
     },
     "execution_count": 16,
     "metadata": {
      "tags": []
     },
     "output_type": "execute_result"
    }
   ],
   "source": [
    "y_test.dtype"
   ]
  },
  {
   "cell_type": "code",
   "execution_count": null,
   "metadata": {
    "colab": {
     "base_uri": "https://localhost:8080/"
    },
    "id": "D2A9kcnZ9ucD",
    "outputId": "0f3f9cc6-8c3b-4ab0-cafe-1a592ac46664"
   },
   "outputs": [
    {
     "name": "stderr",
     "output_type": "stream",
     "text": [
      "/usr/local/lib/python3.7/dist-packages/sklearn/linear_model/_logistic.py:940: ConvergenceWarning: lbfgs failed to converge (status=1):\n",
      "STOP: TOTAL NO. of ITERATIONS REACHED LIMIT.\n",
      "\n",
      "Increase the number of iterations (max_iter) or scale the data as shown in:\n",
      "    https://scikit-learn.org/stable/modules/preprocessing.html\n",
      "Please also refer to the documentation for alternative solver options:\n",
      "    https://scikit-learn.org/stable/modules/linear_model.html#logistic-regression\n",
      "  extra_warning_msg=_LOGISTIC_SOLVER_CONVERGENCE_MSG)\n"
     ]
    }
   ],
   "source": [
    "logistic_model = get_logistic_regression_model(X_train, y_train)"
   ]
  },
  {
   "cell_type": "code",
   "execution_count": null,
   "metadata": {
    "colab": {
     "base_uri": "https://localhost:8080/"
    },
    "id": "nbY9SRPUAVuE",
    "outputId": "d5384c91-57e2-44ad-aefc-c0973a3ec7b6"
   },
   "outputs": [
    {
     "name": "stdout",
     "output_type": "stream",
     "text": [
      "Score: 90.0%\n"
     ]
    }
   ],
   "source": [
    "# check logistic model's score by cross-refrencing it with training of test data\n",
    "logistic_score = logistic_model.score(X_train, y_train)\n",
    "\n",
    "print(\"Score: {}%\".format(round(logistic_score, 1)*100))"
   ]
  },
  {
   "cell_type": "code",
   "execution_count": null,
   "metadata": {
    "colab": {
     "base_uri": "https://localhost:8080/"
    },
    "id": "gJCs-S6DHacV",
    "outputId": "242badae-5f4b-423b-df8b-d7756f4fd8f6"
   },
   "outputs": [
    {
     "data": {
      "text/plain": [
       "0.001095290251916758"
      ]
     },
     "execution_count": 74,
     "metadata": {
      "tags": []
     },
     "output_type": "execute_result"
    }
   ],
   "source": [
    "from sklearn.metrics import accuracy_score\n",
    "\n",
    "# check model's accuracy\n",
    "y_predicted = logistic_model.predict(X_test)\n",
    "accuracy_score(y_test, y_predicted)"
   ]
  },
  {
   "cell_type": "markdown",
   "metadata": {
    "id": "nGxZHfIrCgZr"
   },
   "source": [
    "**Normalization of Data**"
   ]
  },
  {
   "cell_type": "code",
   "execution_count": 97,
   "metadata": {
    "colab": {
     "base_uri": "https://localhost:8080/"
    },
    "id": "wcn9otjgDIqI",
    "outputId": "7782e353-8204-487f-dc67-e17f12b51ec8"
   },
   "outputs": [
    {
     "data": {
      "text/plain": [
       "(3651, 2)"
      ]
     },
     "execution_count": 97,
     "metadata": {
      "tags": []
     },
     "output_type": "execute_result"
    }
   ],
   "source": [
    "from sklearn.preprocessing import StandardScaler\n",
    "from sklearn.decomposition import PCA\n",
    "\n",
    "# a new variable so that X_train doesn't get changed\n",
    "X_train_new = X_train\n",
    "\n",
    "# Normalize the data through Standard Scaler\n",
    "sc = StandardScaler()\n",
    "X_normalized = sc.fit_transform(X_train_new)\n",
    "\n",
    "# Apply PCA on the data\n",
    "\n",
    "# initialize for 2D PCA\n",
    "pca = PCA(n_components = 2)\n",
    "pca.fit(X_normalized)\n",
    "\n",
    "# transform\n",
    "pca_X = pca.transform(X_normalized)\n",
    "pca_X.shape"
   ]
  },
  {
   "cell_type": "markdown",
   "metadata": {
    "id": "9-fsBKG6Fbs-"
   },
   "source": [
    "## **Visualization**"
   ]
  },
  {
   "cell_type": "markdown",
   "metadata": {
    "id": "CttO07DLGUpY"
   },
   "source": [
    "2D Visualization"
   ]
  },
  {
   "cell_type": "code",
   "execution_count": null,
   "metadata": {
    "colab": {
     "base_uri": "https://localhost:8080/",
     "height": 392
    },
    "id": "H0iVHrksFd11",
    "outputId": "55c49ef4-4a51-4208-82bd-8b841201ec91"
   },
   "outputs": [
    {
     "data": {
      "image/png": "[encoded data removed]",
      "text/plain": [
       "<Figure size 720x432 with 1 Axes>"
      ]
     },
     "metadata": {
      "needs_background": "light",
      "tags": []
     },
     "output_type": "display_data"
    }
   ],
   "source": [
    "from matplotlib import pyplot as plt\n",
    "\n",
    "# initialize the figure\n",
    "plt.figure(figsize=(10,6))\n",
    "\n",
    "# title\n",
    "plt.title('Chemicals', fontsize=16)\n",
    "\n",
    "# plot scatter points\n",
    "plt.scatter(pca_X[:,0], pca_X[:,1], c=y_train, cmap='Paired')\n",
    "\n",
    "# plot the regression line\n",
    "# plt.plot(X_test, y_pred)\n",
    "\n",
    "plt.show()"
   ]
  },
  {
   "cell_type": "markdown",
   "metadata": {
    "id": "HNIo54utHOeI"
   },
   "source": [
    "Variance by PCA - 2D"
   ]
  },
  {
   "cell_type": "code",
   "execution_count": null,
   "metadata": {
    "colab": {
     "base_uri": "https://localhost:8080/"
    },
    "id": "MMAVSHraHNe-",
    "outputId": "3f321c18-cdd9-4f5c-81e8-a7057f13e02f"
   },
   "outputs": [
    {
     "data": {
      "text/plain": [
       "array([0.01778158, 0.01640308])"
      ]
     },
     "execution_count": 73,
     "metadata": {
      "tags": []
     },
     "output_type": "execute_result"
    }
   ],
   "source": [
    "pca.explained_variance_ratio_"
   ]
  },
  {
   "cell_type": "markdown",
   "metadata": {
    "id": "PA52Hq2mGdBV"
   },
   "source": [
    "3D Visualization"
   ]
  },
  {
   "cell_type": "code",
   "execution_count": null,
   "metadata": {
    "colab": {
     "base_uri": "https://localhost:8080/"
    },
    "id": "0IS-QmVfF6QP",
    "outputId": "ca25abbe-11ef-49c9-91b8-2369ac8b12d7"
   },
   "outputs": [
    {
     "data": {
      "text/plain": [
       "(3651, 3)"
      ]
     },
     "execution_count": 70,
     "metadata": {
      "tags": []
     },
     "output_type": "execute_result"
    }
   ],
   "source": [
    "# Apply PCA on the data as 3D\n",
    "pca3d = PCA(n_components = 3)\n",
    "pca3d.fit(X_normalized)\n",
    "pca_x_3d = pca3d.transform(X_normalized)\n",
    "\n",
    "# Shape of data now\n",
    "pca_x_3d.shape"
   ]
  },
  {
   "cell_type": "code",
   "execution_count": null,
   "metadata": {
    "colab": {
     "base_uri": "https://localhost:8080/",
     "height": 357
    },
    "id": "o8D5UiQ8GAWS",
    "outputId": "dc6a938f-85a6-4dae-9858-235d8f0ff5f2"
   },
   "outputs": [
    {
     "data": {
      "image/png": "[encoded data removed]",
      "text/plain": [
       "<Figure size 720x432 with 1 Axes>"
      ]
     },
     "metadata": {
      "needs_background": "light",
      "tags": []
     },
     "output_type": "display_data"
    }
   ],
   "source": [
    "from mpl_toolkits.mplot3d import axes3d\n",
    "\n",
    "# initialize the figure\n",
    "fig_3d = plt.figure(figsize=(10,6))\n",
    "ax = fig_3d.add_subplot(111, projection='3d')\n",
    "\n",
    "# initialize the points\n",
    "x_points = pca_x_3d[:,0]\n",
    "y_points = pca_x_3d[:,1]\n",
    "z_points = pca_x_3d[:,2]\n",
    "\n",
    "# figure title\n",
    "plt.title('Chemicals Classification', fontsize = 16)\n",
    "\n",
    "# plot the 3D graph\n",
    "surf = ax.scatter3D(x_points, y_points, z_points, linewidth=0, antialiased=False, c=y_train, cmap='Paired')\n",
    "\n",
    "plt.show()"
   ]
  },
  {
   "cell_type": "markdown",
   "metadata": {
    "id": "P9FqNOqwHHar"
   },
   "source": [
    "Variance by PCA - 3D"
   ]
  },
  {
   "cell_type": "code",
   "execution_count": null,
   "metadata": {
    "colab": {
     "base_uri": "https://localhost:8080/"
    },
    "id": "bRTf3elkHC2W",
    "outputId": "7131c871-a493-4ebe-f066-4a4bc9f189ea"
   },
   "outputs": [
    {
     "data": {
      "text/plain": [
       "array([0.01778154, 0.01640323, 0.01401366])"
      ]
     },
     "execution_count": 72,
     "metadata": {
      "tags": []
     },
     "output_type": "execute_result"
    }
   ],
   "source": [
    "pca3d.explained_variance_ratio_"
   ]
  },
  {
   "cell_type": "markdown",
   "metadata": {
    "id": "vcOG1aOqCazz"
   },
   "source": [
    "## **Feature Reduction - Effect on Model**"
   ]
  },
  {
   "cell_type": "code",
   "execution_count": 98,
   "metadata": {
    "colab": {
     "base_uri": "https://localhost:8080/"
    },
    "id": "KZwKKUb3CuRs",
    "outputId": "3c5ed6f5-e2da-4212-a0d1-4af8d76f2c99"
   },
   "outputs": [
    {
     "data": {
      "text/plain": [
       "dtype('float64')"
      ]
     },
     "execution_count": 98,
     "metadata": {
      "tags": []
     },
     "output_type": "execute_result"
    }
   ],
   "source": [
    "# check the object type\n",
    "\n",
    "pca_X.dtype"
   ]
  },
  {
   "cell_type": "code",
   "execution_count": 99,
   "metadata": {
    "id": "6UE8N0NwDhAA"
   },
   "outputs": [],
   "source": [
    "# reduced trianing data\n",
    "\n",
    "pca_X_train = pca_X"
   ]
  },
  {
   "cell_type": "markdown",
   "metadata": {
    "id": "PQssvmP1DrXp"
   },
   "source": [
    "Reducing Test Data"
   ]
  },
  {
   "cell_type": "code",
   "execution_count": 100,
   "metadata": {
    "colab": {
     "base_uri": "https://localhost:8080/"
    },
    "id": "0yAYGjWwDo-I",
    "outputId": "a176c54b-62da-4d46-d5ad-adc5056a9b5f"
   },
   "outputs": [
    {
     "data": {
      "text/plain": [
       "(913, 2)"
      ]
     },
     "execution_count": 100,
     "metadata": {
      "tags": []
     },
     "output_type": "execute_result"
    }
   ],
   "source": [
    "# a new variable so that X_test doesn't get changed\n",
    "X_test_new = X_test\n",
    "\n",
    "# Normalize the data through Standard Scaler\n",
    "X_normalized_test = sc.fit_transform(X_test_new)\n",
    "\n",
    "# initialize for 2D PCA\n",
    "pca.fit(X_normalized_test)\n",
    "\n",
    "# transform\n",
    "pca_X_test = pca.transform(X_normalized_test)\n",
    "pca_X_test.shape"
   ]
  },
  {
   "cell_type": "markdown",
   "metadata": {
    "id": "HvEWTWD8EGC0"
   },
   "source": [
    "**Linear Regression - PCAed Data**"
   ]
  },
  {
   "cell_type": "code",
   "execution_count": 101,
   "metadata": {
    "id": "i9eHCZAzEFPo"
   },
   "outputs": [],
   "source": [
    "# get linear model fitted with the PCAed data\n",
    "\n",
    "linear_model_pca = get_linear_regression_model(pca_X_train, y_train)"
   ]
  },
  {
   "cell_type": "markdown",
   "metadata": {
    "id": "kdwnRyfCEr6Q"
   },
   "source": [
    "Check Model's Score"
   ]
  },
  {
   "cell_type": "code",
   "execution_count": 102,
   "metadata": {
    "colab": {
     "base_uri": "https://localhost:8080/"
    },
    "id": "hdLFhs0XEDWc",
    "outputId": "0e93e61e-6289-475c-d688-1a2be0738d21"
   },
   "outputs": [
    {
     "data": {
      "text/plain": [
       "0.03736365996189828"
      ]
     },
     "execution_count": 102,
     "metadata": {
      "tags": []
     },
     "output_type": "execute_result"
    }
   ],
   "source": [
    "# obtain the model's score\n",
    "\n",
    "linear_model_pca.score(pca_X_train, y_train)"
   ]
  },
  {
   "cell_type": "markdown",
   "metadata": {
    "id": "0e3eZucsE8iE"
   },
   "source": [
    "Predictions"
   ]
  },
  {
   "cell_type": "code",
   "execution_count": 103,
   "metadata": {
    "id": "Uc4KKcS4E8Rr"
   },
   "outputs": [],
   "source": [
    "# store the predictions of PCAed model\n",
    "\n",
    "y_pred_pca = linear_model_pca.predict(pca_X_test)"
   ]
  },
  {
   "cell_type": "markdown",
   "metadata": {
    "id": "M6XsfLJAFVUk"
   },
   "source": [
    "Metrics"
   ]
  },
  {
   "cell_type": "code",
   "execution_count": 104,
   "metadata": {
    "colab": {
     "base_uri": "https://localhost:8080/"
    },
    "id": "04fvTsDUE3xB",
    "outputId": "ac08bdd9-093f-4a00-abea-01b887cee384"
   },
   "outputs": [
    {
     "name": "stdout",
     "output_type": "stream",
     "text": [
      "Mean Absolute Error: 1.2475624194574657\n",
      "Mean Squared Error: 2.454532225635879\n",
      "Root Mean Squared Error: 1.5666946816900473\n",
      "The R_square of prediction of (RF): -0.06267166979297545\n"
     ]
    }
   ],
   "source": [
    "print('Mean Absolute Error:', metrics.mean_absolute_error(y_test, y_pred_pca))\n",
    "print('Mean Squared Error:', metrics.mean_squared_error(y_test, y_pred_pca))\n",
    "print('Root Mean Squared Error:', np.sqrt(metrics.mean_squared_error(y_test, y_pred_pca)))\n",
    "print(f\"The R_square of prediction of (RF): {metrics.r2_score(y_test, y_pred_pca)}\")"
   ]
  },
  {
   "cell_type": "markdown",
   "metadata": {
    "id": "veg9yYd_IPAo"
   },
   "source": [
    "Metrics"
   ]
  },
  {
   "cell_type": "code",
   "execution_count": 105,
   "metadata": {
    "colab": {
     "base_uri": "https://localhost:8080/"
    },
    "id": "iWt2fVVpISZ4",
    "outputId": "1bf69ee4-4b2f-44d9-e21f-49a610a88d64"
   },
   "outputs": [
    {
     "data": {
      "text/plain": [
       "(4,)"
      ]
     },
     "execution_count": 105,
     "metadata": {
      "tags": []
     },
     "output_type": "execute_result"
    }
   ],
   "source": [
    "# Add metrics into array for visualization\n",
    "\n",
    "pca_metrics = []\n",
    "\n",
    "pca_metrics.append(metrics.mean_absolute_error(y_test, y_pred_pca)*1e21)\n",
    "pca_metrics.append(metrics.mean_squared_error(y_test, y_pred_pca)*1e21)\n",
    "pca_metrics.append(np.sqrt(metrics.mean_squared_error(y_test, y_pred_pca))*1e21)\n",
    "pca_metrics.append(metrics.r2_score(y_test, y_pred_pca)*1e21)\n",
    "\n",
    "# convert into a numpy array\n",
    "pca_metrics = np.array(pca_metrics)\n",
    "\n",
    "pca_metrics.shape"
   ]
  },
  {
   "cell_type": "markdown",
   "metadata": {
    "id": "4yJssUTbFrKB"
   },
   "source": [
    "### **Comparison**"
   ]
  },
  {
   "cell_type": "markdown",
   "metadata": {
    "id": "trbTlNXCJvvI"
   },
   "source": [
    "**Bar Chart**"
   ]
  },
  {
   "cell_type": "code",
   "execution_count": 106,
   "metadata": {
    "colab": {
     "base_uri": "https://localhost:8080/",
     "height": 513
    },
    "id": "q29xTyvWHHEr",
    "outputId": "84622a51-5aca-46ac-b854-805af5e4d3c6"
   },
   "outputs": [
    {
     "data": {
      "image/png": "[encoded data removed]",
      "text/plain": [
       "<Figure size 864x576 with 1 Axes>"
      ]
     },
     "metadata": {
      "needs_background": "light",
      "tags": []
     },
     "output_type": "display_data"
    }
   ],
   "source": [
    "import matplotlib.pyplot as plt\n",
    "\n",
    "# set width of bar\n",
    "barWidth = 0.25\n",
    "fig = plt.subplots(figsize =(12, 8))\n",
    " \n",
    "# set height of bar\n",
    "# non_pca_metrics\n",
    "# pca_metrics\n",
    "\n",
    " \n",
    "# Set position of bar on X axis\n",
    "br1 = np.arange(len(non_pca_metrics))\n",
    "br2 = [x + barWidth for x in br1]\n",
    " \n",
    "# Make the plot\n",
    "plt.bar(br1, non_pca_metrics, color ='r', width = barWidth,\n",
    "        edgecolor ='grey', label ='Non-PCA')\n",
    "plt.bar(br2, pca_metrics, color ='g', width = barWidth,\n",
    "        edgecolor ='grey', label ='PCA')\n",
    " \n",
    "# Adding Labels\n",
    "plt.xlabel('Metrics', fontweight ='bold', fontsize = 15)\n",
    "plt.ylabel('Error', fontweight ='bold', fontsize = 15)\n",
    "\n",
    "# Adding X-ticks\n",
    "plt.xticks([r + barWidth for r in range(len(non_pca_metrics))],\n",
    "        ['Mean Abs Err', 'Mean Sq Err', 'Root Mean Sq Err', 'R2 Score'])\n",
    " \n",
    "plt.legend()\n",
    "plt.show()"
   ]
  },
  {
   "cell_type": "markdown",
   "metadata": {
    "id": "v2myFhO9JxIs"
   },
   "source": [
    "**Box Plot**"
   ]
  },
  {
   "cell_type": "code",
   "execution_count": 107,
   "metadata": {
    "id": "pt9qUuArKEw4"
   },
   "outputs": [],
   "source": [
    "from sklearn import model_selection\n",
    "\n",
    "# K-Fold\n",
    "kfold = model_selection.KFold(n_splits=10)\n",
    "\n",
    "# Store model's cross validation\n",
    "cv_result1 = model_selection.cross_val_score(model, X_test, y_test, cv=kfold)\n",
    "cv_result2 = model_selection.cross_val_score(linear_model_pca, pca_X_test, y_test, cv=kfold)\n",
    "\n",
    "# Make array of results\n",
    "results = []\n",
    "results.append(cv_result1)\n",
    "results.append(cv_result2)\n",
    "\n",
    "# Array of names\n",
    "names = ['Non-PCA', 'PCA']"
   ]
  },
  {
   "cell_type": "code",
   "execution_count": 108,
   "metadata": {
    "colab": {
     "base_uri": "https://localhost:8080/",
     "height": 294
    },
    "id": "6CO0p9CmMqKM",
    "outputId": "d619799f-4b27-437c-d1c9-fcff47018b67"
   },
   "outputs": [
    {
     "data": {
      "image/png": "[encoded data removed]",
      "text/plain": [
       "<Figure size 432x288 with 1 Axes>"
      ]
     },
     "metadata": {
      "needs_background": "light",
      "tags": []
     },
     "output_type": "display_data"
    }
   ],
   "source": [
    "# Boxplot Model's Comparison\n",
    "\n",
    "fig = plt.figure()\n",
    "fig.suptitle('Model Comparison')\n",
    "ax = fig.add_subplot(111)\n",
    "plt.boxplot(results)\n",
    "ax.set_xticklabels(names)\n",
    "\n",
    "plt.show()"
   ]
  },
  {
   "cell_type": "markdown",
   "metadata": {
    "id": "VQIFnpGaRxkr"
   },
   "source": [
    "## **Genetic Algorithm**"
   ]
  },
  {
   "cell_type": "code",
   "execution_count": 109,
   "metadata": {
    "colab": {
     "base_uri": "https://localhost:8080/"
    },
    "id": "Q_K2YkSpR0ZK",
    "outputId": "c4354c80-1bdc-4d91-ebbf-38a61807f58b"
   },
   "outputs": [
    {
     "name": "stdout",
     "output_type": "stream",
     "text": [
      "Collecting sklearn-genetic\n",
      "  Downloading https://files.pythonhosted.org/packages/3c/3b/8e384e1cab48a451c43fcaa2f2120dd6e8d2581e33e118a23a27de14267d/sklearn_genetic-0.4.1-py2.py3-none-any.whl\n",
      "Requirement already satisfied: scikit-learn>=0.20.3 in /usr/local/lib/python3.7/dist-packages (from sklearn-genetic) (0.22.2.post1)\n",
      "Collecting deap>=1.0.2\n",
      "\u001B[?25l  Downloading https://files.pythonhosted.org/packages/99/d1/803c7a387d8a7e6866160b1541307f88d534da4291572fb32f69d2548afb/deap-1.3.1-cp37-cp37m-manylinux2010_x86_64.whl (157kB)\n",
      "\u001B[K     |████████████████████████████████| 163kB 6.5MB/s \n",
      "\u001B[?25hRequirement already satisfied: scipy>=0.17.0 in /usr/local/lib/python3.7/dist-packages (from scikit-learn>=0.20.3->sklearn-genetic) (1.4.1)\n",
      "Requirement already satisfied: joblib>=0.11 in /usr/local/lib/python3.7/dist-packages (from scikit-learn>=0.20.3->sklearn-genetic) (1.0.1)\n",
      "Requirement already satisfied: numpy>=1.11.0 in /usr/local/lib/python3.7/dist-packages (from scikit-learn>=0.20.3->sklearn-genetic) (1.19.5)\n",
      "Installing collected packages: deap, sklearn-genetic\n",
      "Successfully installed deap-1.3.1 sklearn-genetic-0.4.1\n"
     ]
    }
   ],
   "source": [
    "!pip install sklearn-genetic"
   ]
  },
  {
   "cell_type": "code",
   "execution_count": 113,
   "metadata": {
    "colab": {
     "base_uri": "https://localhost:8080/"
    },
    "id": "w5jgwC_mTTaa",
    "outputId": "0090cdf8-1111-4d3d-cc46-4387afab1c6f"
   },
   "outputs": [
    {
     "name": "stdout",
     "output_type": "stream",
     "text": [
      "Selecting features with genetic algorithm.\n",
      "gen\tnevals\tavg                    \tstd                    \tmin                      \tmax                    \n",
      "0  \t50    \t[0.01402505 3.04      ]\t[0.02454688 1.32604676]\t[-0.00276218  1.        ]\t[0.11377394 5.        ]\n",
      "1  \t25    \t[-1799.97016336     8.04      ]\t[3841.88852169   13.70833323]\t[-1.e+04  2.e+00]        \t[ 0.11377394 64.        ]\n",
      "2  \t25    \t[-2399.96083758    14.22      ]\t[4270.85330831   20.80316322]\t[-1.e+04  1.e+00]        \t[ 0.11377394 61.        ]\n",
      "3  \t28    \t[-2599.94985568    16.48      ]\t[4386.37216302   22.7413632 ]\t[-1.e+04  1.e+00]        \t[ 0.15492096 79.        ]\n",
      "4  \t29    \t[-2599.93036001    12.54      ]\t[4386.38371906   18.17053659]\t[-1.e+04  1.e+00]        \t[ 0.15492096 64.        ]\n",
      "5  \t29    \t[-3199.91881764    18.9       ]\t[4664.81720659   22.81863274]\t[-1.e+04  2.e+00]        \t[ 0.15558277 65.        ]\n",
      "6  \t34    \t[-3399.91225893    16.72      ]\t[4737.15068832   20.73262164]\t[-1.e+04  2.e+00]        \t[ 0.15558277 60.        ]\n",
      "7  \t29    \t[-2399.89521064    15.5       ]\t[4270.89018746   22.81161985]\t[-1.e+04  2.e+00]        \t[  0.15733693 109.        ]\n",
      "8  \t25    \t[-3199.89616727    19.62      ]\t[4664.83274455   23.56513526]\t[-1.e+04  3.e+00]        \t[ 0.15733693 74.        ]  \n",
      "9  \t27    \t[-2599.88516748    16.18      ]\t[4386.41050675   21.84096152]\t[-1.e+04  3.e+00]        \t[ 0.15733693 71.        ]  \n",
      "10 \t21    \t[-1999.87511887    13.42      ]\t[4000.06244056   19.88174037]\t[-1.e+04  4.e+00]        \t[ 0.16053542 75.        ]  \n",
      "11 \t31    \t[-3399.89598854    18.52      ]\t[4737.16236617   23.00890262]\t[-1.e+04  4.e+00]        \t[ 0.16053542 72.        ]  \n",
      "12 \t32    \t[-3599.89892116    16.48      ]\t[4800.07580913   21.43010966]\t[-1.e+04  3.e+00]        \t[ 0.16053542 72.        ]  \n",
      "13 \t30    \t[-3199.89175848    16.54      ]\t[4664.83576895   22.09362804]\t[-1.e+04  4.e+00]        \t[ 0.16053542 68.        ]  \n",
      "14 \t35    \t[-2999.8880701    20.72     ]  \t[4582.64897027   24.50064489]\t[-1.e+04  4.e+00]        \t[ 0.16210607 68.        ]  \n",
      "15 \t31    \t[-1599.86528837    11.18      ]\t[3666.11934894   17.08881506]\t[-1.e+04  4.e+00]        \t[ 0.16210607 71.        ]  \n",
      "16 \t33    \t[-1599.86514128    12.6       ]\t[3666.11941313   17.58522107]\t[-1.e+04  4.e+00]        \t[ 0.16210607 58.        ]  \n",
      "17 \t29    \t[-2599.88113648    16.12      ]\t[4386.41289612   21.01964795]\t[-1.e+04  4.e+00]        \t[ 0.16210607 65.        ]  \n",
      "18 \t36    \t[-2999.88751752    15.86      ]\t[4582.64933202   20.54751566]\t[-1.e+04  4.e+00]        \t[ 0.16210607 63.        ]  \n",
      "19 \t31    \t[-2799.88419461    17.36      ]\t[4490.06108148   22.03883844]\t[-1.e+04  5.e+00]        \t[ 0.16210607 65.        ]  \n",
      "20 \t27    \t[-2199.87436056    13.3       ]\t[4142.52976067   19.198177  ]\t[-1.e+04  4.e+00]        \t[ 0.16210607 64.        ]  \n",
      "21 \t30    \t[-2199.87392974    15.18      ]\t[4142.52998947   20.6297746 ]\t[-1.e+04  4.e+00]        \t[ 0.16210607 67.        ]  \n",
      "22 \t30    \t[-1799.86719419    13.28      ]\t[3841.93676481   19.2198231 ]\t[-1.e+04  4.e+00]        \t[ 0.16210607 69.        ]  \n",
      "23 \t30    \t[-2799.88328363    18.16      ]\t[4490.06164958   21.79849536]\t[-1.e+04  5.e+00]        \t[ 0.16210607 64.        ]  \n",
      "24 \t31    \t[-3399.89300999    21.34      ]\t[4737.164504     23.98967278]\t[-1.e+04  5.e+00]        \t[ 0.16210607 68.        ]  \n",
      "[False False False ... False False False]\n"
     ]
    }
   ],
   "source": [
    "from __future__ import print_function\n",
    "import numpy as np\n",
    "from sklearn import datasets, linear_model\n",
    "from genetic_selection import GeneticSelectionCV\n",
    "\n",
    "# initialize the estimator\n",
    "estimator = LinearRegression()\n",
    "\n",
    "# initialize the selector\n",
    "selector = GeneticSelectionCV(estimator,\n",
    "                              cv=5,\n",
    "                              verbose=1,\n",
    "                              # scoring=\"accuracy\",\n",
    "                              max_features=5,\n",
    "                              n_population=50,\n",
    "                              crossover_proba=0.5,\n",
    "                              mutation_proba=0.2,\n",
    "                              n_generations=40,\n",
    "                              crossover_independent_proba=0.5,\n",
    "                              mutation_independent_proba=0.05,\n",
    "                              tournament_size=3,\n",
    "                              n_gen_no_change=10,\n",
    "                              caching=True,\n",
    "                              n_jobs=-1)\n",
    "\n",
    "selector = selector.fit(X_train, y_train)\n",
    "\n",
    "print(selector.support_)"
   ]
  },
  {
   "cell_type": "markdown",
   "metadata": {
    "id": "Os8mnGuQVeiJ"
   },
   "source": [
    "Score"
   ]
  },
  {
   "cell_type": "code",
   "execution_count": 119,
   "metadata": {
    "colab": {
     "base_uri": "https://localhost:8080/"
    },
    "id": "0g2-AhWyVdr6",
    "outputId": "0ae3296f-32e2-473d-d74c-0e4346de80ba"
   },
   "outputs": [
    {
     "name": "stdout",
     "output_type": "stream",
     "text": [
      "Training Score:  0.1645519272293492\n"
     ]
    }
   ],
   "source": [
    "score = selector.score(X_train, y_train)\n",
    "print('Training Score: ',score)"
   ]
  },
  {
   "cell_type": "code",
   "execution_count": 120,
   "metadata": {
    "colab": {
     "base_uri": "https://localhost:8080/"
    },
    "id": "4-BDLmQxVivQ",
    "outputId": "b21da233-80af-4ecf-d121-8cdd0f755234"
   },
   "outputs": [
    {
     "name": "stdout",
     "output_type": "stream",
     "text": [
      "Testing Score:  0.13867517829770692\n"
     ]
    }
   ],
   "source": [
    "score = selector.score(X_test, y_test)\n",
    "print('Testing Score: ',score)"
   ]
  },
  {
   "cell_type": "code",
   "execution_count": 124,
   "metadata": {
    "colab": {
     "base_uri": "https://localhost:8080/"
    },
    "id": "IjvRBL_KVrcp",
    "outputId": "df4e2bf1-f775-4bee-d58c-c14ff93b5d04"
   },
   "outputs": [
    {
     "name": "stdout",
     "output_type": "stream",
     "text": [
      "No. of features: 5\n"
     ]
    }
   ],
   "source": [
    "ftrs = selector.n_features_\n",
    "print(f'No. of features: {ftrs}')"
   ]
  },
  {
   "cell_type": "code",
   "execution_count": 127,
   "metadata": {
    "colab": {
     "base_uri": "https://localhost:8080/"
    },
    "id": "KkmYpH22Wj0K",
    "outputId": "1f8f4736-8134-474b-bf32-ce630b429807"
   },
   "outputs": [
    {
     "name": "stdout",
     "output_type": "stream",
     "text": [
      "Selecting features with genetic algorithm.\n",
      "gen\tnevals\tavg                    \tstd                    \tmin                      \tmax                    \n",
      "0  \t50    \t[0.01213163 3.14      ]\t[0.01907052 1.44235918]\t[-0.00306766  1.        ]\t[0.09284297 5.        ]\n",
      "1  \t25    \t[-1399.97094404    10.3       ]\t[3469.882038     17.99694419]\t[-1.e+04  1.e+00]        \t[ 0.09284297 70.        ]\n",
      "2  \t29    \t[-2199.95628001    11.24      ]\t[4142.48625459   18.32109167]\t[-1.e+04  1.e+00]        \t[ 0.10924567 66.        ]\n",
      "3  \t22    \t[-1799.933588    11.82    ]    \t[3841.90565797   18.03406776]\t[-1.e+04  2.e+00]        \t[ 0.10924567 62.        ]\n",
      "4  \t32    \t[-3399.94354954    18.32      ]\t[4737.12822977   21.99130737]\t[-1.e+04  1.e+00]        \t[ 0.10924567 71.        ]\n",
      "5  \t24    \t[-2399.93021835    14.24      ]\t[4270.87051476   20.37602513]\t[-1.e+04  3.e+00]        \t[ 0.10924567 88.        ]\n",
      "6  \t34    \t[-3599.93921497    17.16      ]\t[4800.04558881   21.83699613]\t[-1.e+04  3.e+00]        \t[ 0.11329542 81.        ]\n",
      "7  \t34    \t[-2599.92704113     9.1       ]\t[4386.38568624   13.51776609]\t[-1.e+04  2.e+00]        \t[ 0.12540414 57.        ]\n",
      "8  \t21    \t[-2999.93300589    14.1       ]\t[4582.61955296   20.70676218]\t[-1.e+04  2.e+00]        \t[ 0.12540414 73.        ]\n",
      "9  \t34    \t[-3399.93208737    15.14      ]\t[4737.13645662   21.44388957]\t[-1.e+04  2.e+00]        \t[ 0.12543528 68.        ]\n",
      "10 \t32    \t[-2599.91758851    13.76      ]\t[4386.39128924   18.67892931]\t[-1.e+04  3.e+00]        \t[ 0.13573163 61.        ]\n",
      "11 \t29    \t[-3399.92143829    17.08      ]\t[4737.14409986   22.02529455]\t[-1.e+04  3.e+00]        \t[ 0.13573163 72.        ]\n",
      "12 \t29    \t[-2399.90756979    14.32      ]\t[4270.88324212   21.05368376]\t[-1.e+04  3.e+00]        \t[ 0.13573163 70.        ]\n",
      "13 \t35    \t[-3399.91426258    18.08      ]\t[4737.14925016   20.94071632]\t[-1.e+04  3.e+00]        \t[ 0.13573163 65.        ]\n",
      "14 \t36    \t[-3799.9168884    20.72     ]  \t[4853.92950633   25.12929764]\t[-1.e+04  3.e+00]        \t[ 0.13573163 76.        ]\n",
      "15 \t26    \t[-2799.90301287    14.4       ]\t[4490.04934623   20.93036072]\t[-1.e+04  4.e+00]        \t[ 0.13573163 67.        ]\n",
      "16 \t27    \t[-1799.88870006    13.82      ]\t[3841.92668885   18.93429692]\t[-1.e+04  5.e+00]        \t[ 0.13573163 61.        ]\n",
      "17 \t30    \t[-2399.89684396    16.54      ]\t[4270.8892695    21.55292092]\t[-1.e+04  5.e+00]        \t[ 0.13573163 74.        ]\n",
      "18 \t27    \t[-999.87784153    9.84      ]  \t[3000.04071949   14.62512906]\t[-1.e+04  5.e+00]        \t[ 0.13573163 63.        ]\n",
      "19 \t30    \t[-2399.89684396    17.52      ]\t[4270.8892695    22.71144205]\t[-1.e+04  5.e+00]        \t[ 0.13573163 68.        ]\n",
      "20 \t24    \t[-1999.8914147    15.38     ]  \t[4000.05429265   21.2592474 ]\t[-1.e+04  5.e+00]        \t[ 0.13573163 72.        ]\n"
     ]
    }
   ],
   "source": [
    "# Tranform the X_train having only 5 features selected by the GA\n",
    "\n",
    "X_train = selector.fit_transform(X_train, y_train)"
   ]
  },
  {
   "cell_type": "code",
   "execution_count": 129,
   "metadata": {
    "colab": {
     "base_uri": "https://localhost:8080/"
    },
    "id": "XOCCUcsiW9vv",
    "outputId": "79ec225b-f4f6-49ed-d771-5f79a5869f17"
   },
   "outputs": [
    {
     "data": {
      "text/plain": [
       "(3651, 5)"
      ]
     },
     "execution_count": 129,
     "metadata": {
      "tags": []
     },
     "output_type": "execute_result"
    }
   ],
   "source": [
    "X_train.shape"
   ]
  },
  {
   "cell_type": "markdown",
   "metadata": {
    "id": "oIOHEdUZXZxt"
   },
   "source": [
    "## **Genetic Algorithm - Effect on Model**"
   ]
  },
  {
   "cell_type": "code",
   "execution_count": 130,
   "metadata": {
    "id": "CboEbWyQXBRZ"
   },
   "outputs": [],
   "source": [
    "# get linear model fitted with the genetic algo modified data\n",
    "\n",
    "linear_model_GA = get_linear_regression_model(X_train, y_train)"
   ]
  },
  {
   "cell_type": "code",
   "execution_count": 132,
   "metadata": {
    "colab": {
     "base_uri": "https://localhost:8080/"
    },
    "id": "Ii-T_ZY_XskQ",
    "outputId": "88f93e11-cea6-4bb5-df84-18cecb3faa31"
   },
   "outputs": [
    {
     "name": "stdout",
     "output_type": "stream",
     "text": [
      "Selecting features with genetic algorithm.\n",
      "gen\tnevals\tavg                              \tstd                    \tmin                    \tmax                    \n",
      "0  \t50    \t[-1.83655102e-04  3.10000000e+00]\t[0.01842595 1.36014705]\t[-0.0212282  1.       ]\t[0.08500102 5.        ]\n",
      "1  \t27    \t[-1599.98717068     9.48      ]  \t[3666.0661552    17.15137312]\t[-10000.      0.]      \t[ 0.08500102 62.        ]\n",
      "2  \t28    \t[-1199.96453802     8.18      ]  \t[3249.6284572    14.91936996]\t[-1.e+04  1.e+00]      \t[ 0.111349 66.      ]    \n",
      "3  \t34    \t[-1999.95017663    10.98      ]  \t[4000.02491181   18.43636624]\t[-10000.      0.]      \t[ 0.13041526 64.        ]\n",
      "4  \t33    \t[-2799.93309929    15.08      ]  \t[4490.03058412   20.76327527]\t[-1.e+04  2.e+00]      \t[ 0.13041526 68.        ]\n",
      "5  \t30    \t[-2599.9145467    16.26     ]    \t[4386.39309228   22.59275105]\t[-1.e+04  1.e+00]      \t[ 0.13739783 66.        ]\n",
      "6  \t30    \t[-2399.90815709    13.34      ]  \t[4270.8829121    19.07942347]\t[-1.e+04  2.e+00]      \t[ 0.14901741 68.        ]\n",
      "7  \t36    \t[-2999.90725552    17.88      ]  \t[4582.63641048   23.34920984]\t[-1.e+04  3.e+00]      \t[ 0.15175313 75.        ]\n",
      "8  \t34    \t[-2599.89654961    14.52      ]  \t[4386.40376002   20.18637164]\t[-1.e+04  2.e+00]      \t[ 0.15990979 65.        ]\n",
      "9  \t30    \t[-2199.88590915    13.5       ]  \t[4142.52362739   19.86177233]\t[-1.e+04  3.e+00]      \t[ 0.16919635 63.        ]\n",
      "10 \t32    \t[-2399.88451096    15.58      ]  \t[4270.89620006   21.86146381]\t[-1.e+04  3.e+00]      \t[ 0.16919635 69.        ]\n",
      "11 \t26    \t[-3199.89239994    18.58      ]  \t[4664.83532891   22.57351546]\t[-1.e+04  3.e+00]      \t[ 0.16919635 65.        ]\n",
      "12 \t23    \t[-2199.87268835    14.52      ]  \t[4142.53064875   20.63612367]\t[-1.e+04  4.e+00]      \t[ 0.17014084 64.        ]\n",
      "13 \t26    \t[-2399.87378654    14.04      ]  \t[4270.90222665   19.62341459]\t[-1.e+04  4.e+00]      \t[ 0.17014084 65.        ]\n",
      "14 \t26    \t[-2599.87544139    15.66      ]  \t[4386.41627188   21.4425838 ]\t[-1.e+04  4.e+00]      \t[ 0.17014084 69.        ]\n",
      "15 \t25    \t[-1999.8648237    11.44     ]    \t[4000.06758815   17.36681894]\t[-1.e+04  4.e+00]      \t[ 0.17014084 64.        ]\n",
      "16 \t27    \t[-1799.86122323    11.14      ]  \t[3841.93956233   16.7176673 ]\t[-1.e+04  4.e+00]      \t[ 0.17014084 65.        ]\n",
      "17 \t30    \t[-2399.87090075    16.        ]  \t[4270.90384833   20.99142682]\t[-1.e+04  5.e+00]      \t[ 0.17014084 68.        ]\n",
      "18 \t29    \t[-2199.86746712    16.2       ]  \t[4142.53342167   21.48022346]\t[-1.e+04  4.e+00]      \t[ 0.17014084 71.        ]\n",
      "19 \t28    \t[-2199.86739156    15.56      ]  \t[4142.53346179   20.20807759]\t[-1.e+04  4.e+00]      \t[ 0.17014084 60.        ]\n",
      "20 \t29    \t[-1599.8570817    14.32     ]    \t[3666.12293063   22.36196771]\t[-1.e+04  5.e+00]      \t[  0.17014084 104.        ]\n",
      "21 \t30    \t[-1599.8570817    13.4      ]    \t[3666.12293063   19.37524193]\t[-1.e+04  5.e+00]      \t[ 0.17014084 66.        ]  \n",
      "22 \t31    \t[-1399.85367888    12.58      ]  \t[3469.92935124   18.93155039]\t[-1.e+04  5.e+00]      \t[ 0.17014084 70.        ]  \n"
     ]
    }
   ],
   "source": [
    "# Tranform the X_train having only 5 features selected by the GA\n",
    "\n",
    "X_test = selector.fit_transform(X_test, y_test)"
   ]
  },
  {
   "cell_type": "code",
   "execution_count": 133,
   "metadata": {
    "id": "_y7MgDuBXX7B"
   },
   "outputs": [],
   "source": [
    "# Make predictions\n",
    "\n",
    "y_pred_GA = linear_model_GA.predict(X_test)"
   ]
  },
  {
   "cell_type": "code",
   "execution_count": 134,
   "metadata": {
    "colab": {
     "base_uri": "https://localhost:8080/"
    },
    "id": "DEqjdwsSYLPR",
    "outputId": "13ba6cc9-e84d-422a-f70e-52b4e4b07335"
   },
   "outputs": [
    {
     "name": "stdout",
     "output_type": "stream",
     "text": [
      "Mean Absolute Error: 1.4059056822115654\n",
      "Mean Squared Error: 3.113414972996175\n",
      "Root Mean Squared Error: 1.764487169972107\n",
      "The R_square of prediction of (RF): -0.3479301080494783\n"
     ]
    }
   ],
   "source": [
    "print('Mean Absolute Error:', metrics.mean_absolute_error(y_test, y_pred_GA))\n",
    "print('Mean Squared Error:', metrics.mean_squared_error(y_test, y_pred_GA))\n",
    "print('Root Mean Squared Error:', np.sqrt(metrics.mean_squared_error(y_test, y_pred_GA)))\n",
    "print(f\"The R_square of prediction of (RF): {metrics.r2_score(y_test, y_pred_GA)}\")"
   ]
  },
  {
   "cell_type": "code",
   "execution_count": 135,
   "metadata": {
    "colab": {
     "base_uri": "https://localhost:8080/"
    },
    "id": "nuL7IUX9YYp-",
    "outputId": "58df9d24-cb0c-46b5-cc26-7e6e1393ea35"
   },
   "outputs": [
    {
     "data": {
      "text/plain": [
       "(4,)"
      ]
     },
     "execution_count": 135,
     "metadata": {
      "tags": []
     },
     "output_type": "execute_result"
    }
   ],
   "source": [
    "# Add metrics into array for visualization\n",
    "\n",
    "ga_metrics = []\n",
    "\n",
    "ga_metrics.append(metrics.mean_absolute_error(y_test, y_pred_GA)*1e21)\n",
    "ga_metrics.append(metrics.mean_squared_error(y_test, y_pred_GA)*1e21)\n",
    "ga_metrics.append(np.sqrt(metrics.mean_squared_error(y_test, y_pred_GA))*1e21)\n",
    "ga_metrics.append(metrics.r2_score(y_test, y_pred_GA)*1e21)\n",
    "\n",
    "# convert into a numpy array\n",
    "ga_metrics = np.array(ga_metrics)\n",
    "\n",
    "ga_metrics.shape"
   ]
  },
  {
   "cell_type": "markdown",
   "metadata": {
    "id": "_WC8UT5lZAUZ"
   },
   "source": [
    "**Bar Chart**"
   ]
  },
  {
   "cell_type": "code",
   "execution_count": 138,
   "metadata": {
    "colab": {
     "base_uri": "https://localhost:8080/",
     "height": 513
    },
    "id": "o8JRzGRhYiaY",
    "outputId": "1e6ba608-9056-42d1-e89a-aa6b133860e1"
   },
   "outputs": [
    {
     "data": {
      "image/png": "[encoded data removed]",
      "text/plain": [
       "<Figure size 864x576 with 1 Axes>"
      ]
     },
     "metadata": {
      "needs_background": "light",
      "tags": []
     },
     "output_type": "display_data"
    }
   ],
   "source": [
    "import matplotlib.pyplot as plt\n",
    "\n",
    "# set width of bar\n",
    "barWidth = 0.25\n",
    "fig = plt.subplots(figsize =(12, 8))\n",
    " \n",
    "# set height of bar\n",
    "# non_pca_metrics\n",
    "# ga_metrics\n",
    "\n",
    " \n",
    "# Set position of bar on X axis\n",
    "br1 = np.arange(len(non_pca_metrics))\n",
    "br2 = [x + barWidth for x in br1]\n",
    " \n",
    "# Make the plot\n",
    "plt.bar(br1, non_pca_metrics, color ='r', width = barWidth,\n",
    "        edgecolor ='grey', label ='Non-GA')\n",
    "plt.bar(br2, ga_metrics, color ='g', width = barWidth,\n",
    "        edgecolor ='grey', label ='GA*1x10^21')\n",
    " \n",
    "# Adding Labels\n",
    "plt.xlabel('Metrics', fontweight ='bold', fontsize = 15)\n",
    "plt.ylabel('Error', fontweight ='bold', fontsize = 15)\n",
    "\n",
    "# Adding X-ticks\n",
    "plt.xticks([r + barWidth for r in range(len(non_pca_metrics))],\n",
    "        ['Mean Abs Err', 'Mean Sq Err', 'Root Mean Sq Err', 'R2 Score'])\n",
    " \n",
    "plt.legend()\n",
    "plt.show()"
   ]
  },
  {
   "cell_type": "markdown",
   "metadata": {
    "id": "PP8tQU2vZCuY"
   },
   "source": [
    "## **Overall Comparison**"
   ]
  },
  {
   "cell_type": "code",
   "execution_count": 141,
   "metadata": {
    "colab": {
     "base_uri": "https://localhost:8080/",
     "height": 513
    },
    "id": "lHI1GeSzZfh6",
    "outputId": "c238e24e-53ab-4eac-f2cf-b62cb69eb13e"
   },
   "outputs": [
    {
     "data": {
      "image/png": "[encoded data removed]",
      "text/plain": [
       "<Figure size 864x576 with 1 Axes>"
      ]
     },
     "metadata": {
      "needs_background": "light",
      "tags": []
     },
     "output_type": "display_data"
    }
   ],
   "source": [
    "import matplotlib.pyplot as plt\n",
    "\n",
    "# set width of bar\n",
    "barWidth = 0.25\n",
    "fig = plt.subplots(figsize =(12, 8))\n",
    " \n",
    "# set height of bar\n",
    "# normal_metrics\n",
    "# pca_metrics\n",
    "# ga_metrics\n",
    "\n",
    " \n",
    "# Set position of bar on X axis\n",
    "br1 = np.arange(len(non_pca_metrics))\n",
    "br2 = [x + barWidth for x in br1]\n",
    "br3 = [x + barWidth for x in br2]\n",
    " \n",
    "# Make the plot\n",
    "plt.bar(br1, non_pca_metrics, color ='r', width = barWidth,\n",
    "        edgecolor ='grey', label ='Normal')\n",
    "plt.bar(br2, pca_metrics, color ='g', width = barWidth,\n",
    "        edgecolor ='grey', label ='PCA*1x10^21')\n",
    "plt.bar(br3, ga_metrics, color ='b', width = barWidth,\n",
    "        edgecolor ='grey', label ='GA*1x10^21')\n",
    " \n",
    "# Adding Labels\n",
    "plt.xlabel('Metrics', fontweight ='bold', fontsize = 15)\n",
    "plt.ylabel('Error', fontweight ='bold', fontsize = 15)\n",
    "\n",
    "# Adding X-ticks\n",
    "plt.xticks([r + barWidth for r in range(len(non_pca_metrics))],\n",
    "        ['Mean Abs Err', 'Mean Sq Err', 'Root Mean Sq Err', 'R2 Score'])\n",
    " \n",
    "plt.legend()\n",
    "plt.show()"
   ]
  },
  {
   "cell_type": "markdown",
   "metadata": {
    "id": "Y93kH418cd9J"
   },
   "source": [
    "Hence, after the comparison, if features are extracted from `Genetic Algorithm`, and the `Linear Regression` is trnaformed, the model yeilds the best results.\n",
    "\n",
    "\n",
    "---\n",
    "\n"
   ]
  }
 ],
 "metadata": {
  "colab": {
   "name": "IDS-Assignment-03-(FA17-BSE-083).ipynb",
   "provenance": []
  },
  "kernelspec": {
   "display_name": "Python 3",
   "language": "python",
   "name": "python3"
  },
  "language_info": {
   "codemirror_mode": {
    "name": "ipython",
    "version": 3
   },
   "file_extension": ".py",
   "mimetype": "text/x-python",
   "name": "python",
   "nbconvert_exporter": "python",
   "pygments_lexer": "ipython3",
   "version": "3.8.3"
  }
 },
 "nbformat": 4,
 "nbformat_minor": 1
}